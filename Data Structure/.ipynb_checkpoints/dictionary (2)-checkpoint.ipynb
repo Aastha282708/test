{
 "cells": [
  {
   "cell_type": "markdown",
   "metadata": {},
   "source": [
    "# enumerate"
   ]
  },
  {
   "cell_type": "code",
   "execution_count": 1,
   "metadata": {},
   "outputs": [],
   "source": [
    "a=[1,2,3,4,5]"
   ]
  },
  {
   "cell_type": "code",
   "execution_count": 6,
   "metadata": {},
   "outputs": [],
   "source": [
    "b=[2,3,4,5,6]"
   ]
  },
  {
   "cell_type": "code",
   "execution_count": 7,
   "metadata": {},
   "outputs": [
    {
     "data": {
      "text/plain": [
       "[1, 2, 3, 4, 5, 2, 3, 4, 5, 6]"
      ]
     },
     "execution_count": 7,
     "metadata": {},
     "output_type": "execute_result"
    }
   ],
   "source": [
    "a+b"
   ]
  },
  {
   "cell_type": "code",
   "execution_count": 8,
   "metadata": {},
   "outputs": [],
   "source": [
    "c=0"
   ]
  },
  {
   "cell_type": "code",
   "execution_count": 9,
   "metadata": {},
   "outputs": [
    {
     "name": "stdout",
     "output_type": "stream",
     "text": [
      "3\n",
      "5\n",
      "7\n",
      "9\n",
      "11\n"
     ]
    }
   ],
   "source": [
    "for i in range (len(a)):\n",
    "    print(a[c]+b[c])\n",
    "    c=c+1"
   ]
  },
  {
   "cell_type": "code",
   "execution_count": 10,
   "metadata": {},
   "outputs": [
    {
     "name": "stdout",
     "output_type": "stream",
     "text": [
      "1\n",
      "2\n",
      "3\n",
      "4\n",
      "5\n"
     ]
    }
   ],
   "source": [
    "for i in a:\n",
    "    print(i)"
   ]
  },
  {
   "cell_type": "code",
   "execution_count": 11,
   "metadata": {},
   "outputs": [
    {
     "name": "stdout",
     "output_type": "stream",
     "text": [
      "(0, 1)\n",
      "(1, 2)\n",
      "(2, 3)\n",
      "(3, 4)\n",
      "(4, 5)\n"
     ]
    }
   ],
   "source": [
    "for i in enumerate(a):\n",
    "    print(i)"
   ]
  },
  {
   "cell_type": "code",
   "execution_count": 12,
   "metadata": {},
   "outputs": [
    {
     "name": "stdout",
     "output_type": "stream",
     "text": [
      "0 1\n",
      "1 2\n",
      "2 3\n",
      "3 4\n",
      "4 5\n"
     ]
    }
   ],
   "source": [
    "for i,j in enumerate (a):\n",
    "    print(i,j)"
   ]
  },
  {
   "cell_type": "raw",
   "metadata": {},
   "source": [
    "this is upacking from the tuple\n",
    "in the above program\n",
    "and the index and values soters on the i and j variable\n"
   ]
  },
  {
   "cell_type": "code",
   "execution_count": 14,
   "metadata": {},
   "outputs": [
    {
     "name": "stdout",
     "output_type": "stream",
     "text": [
      "3\n",
      "5\n",
      "7\n",
      "9\n",
      "11\n"
     ]
    }
   ],
   "source": [
    "for i,j in enumerate(a):\n",
    "    print(j+b[i])"
   ]
  },
  {
   "cell_type": "markdown",
   "metadata": {},
   "source": [
    "# zip"
   ]
  },
  {
   "cell_type": "code",
   "execution_count": 15,
   "metadata": {},
   "outputs": [
    {
     "name": "stdout",
     "output_type": "stream",
     "text": [
      "(1, 2)\n",
      "(2, 3)\n",
      "(3, 4)\n",
      "(4, 5)\n",
      "(5, 6)\n"
     ]
    }
   ],
   "source": [
    "for i in zip(a,b):\n",
    "    print(i)"
   ]
  },
  {
   "cell_type": "code",
   "execution_count": 16,
   "metadata": {},
   "outputs": [
    {
     "data": {
      "text/plain": [
       "[1, 2, 3, 4, 5]"
      ]
     },
     "execution_count": 16,
     "metadata": {},
     "output_type": "execute_result"
    }
   ],
   "source": [
    "a"
   ]
  },
  {
   "cell_type": "code",
   "execution_count": 17,
   "metadata": {},
   "outputs": [
    {
     "data": {
      "text/plain": [
       "[2, 3, 4, 5, 6]"
      ]
     },
     "execution_count": 17,
     "metadata": {},
     "output_type": "execute_result"
    }
   ],
   "source": [
    "b"
   ]
  },
  {
   "cell_type": "code",
   "execution_count": 24,
   "metadata": {},
   "outputs": [
    {
     "ename": "ValueError",
     "evalue": "not enough values to unpack (expected 2, got 1)",
     "output_type": "error",
     "traceback": [
      "\u001b[1;31m---------------------------------------------------------------------------\u001b[0m",
      "\u001b[1;31mValueError\u001b[0m                                Traceback (most recent call last)",
      "\u001b[1;32m<ipython-input-24-7941548bd468>\u001b[0m in \u001b[0;36m<module>\u001b[1;34m\u001b[0m\n\u001b[1;32m----> 1\u001b[1;33m \u001b[1;32mfor\u001b[0m \u001b[0mi\u001b[0m\u001b[1;33m,\u001b[0m\u001b[0mj\u001b[0m \u001b[1;32min\u001b[0m \u001b[0mzip\u001b[0m\u001b[1;33m(\u001b[0m\u001b[0ma\u001b[0m\u001b[1;33m+\u001b[0m\u001b[0mb\u001b[0m\u001b[1;33m)\u001b[0m\u001b[1;33m:\u001b[0m\u001b[1;33m\u001b[0m\u001b[1;33m\u001b[0m\u001b[0m\n\u001b[0m\u001b[0;32m      2\u001b[0m     \u001b[0mprint\u001b[0m\u001b[1;33m(\u001b[0m\u001b[0mc\u001b[0m\u001b[1;33m)\u001b[0m\u001b[1;33m\u001b[0m\u001b[1;33m\u001b[0m\u001b[0m\n",
      "\u001b[1;31mValueError\u001b[0m: not enough values to unpack (expected 2, got 1)"
     ]
    }
   ],
   "source": [
    "for i,j in zip(a+b):\n",
    "    print(c)"
   ]
  },
  {
   "cell_type": "code",
   "execution_count": 1,
   "metadata": {},
   "outputs": [],
   "source": [
    "d={'name':'saphal'}"
   ]
  },
  {
   "cell_type": "code",
   "execution_count": 5,
   "metadata": {},
   "outputs": [],
   "source": [
    "f={'name':'saphal','marks':60}"
   ]
  },
  {
   "cell_type": "code",
   "execution_count": 6,
   "metadata": {},
   "outputs": [],
   "source": [
    "d={}"
   ]
  },
  {
   "cell_type": "code",
   "execution_count": 7,
   "metadata": {},
   "outputs": [],
   "source": [
    "fruits=['apple','ornage','mango']"
   ]
  },
  {
   "cell_type": "code",
   "execution_count": 9,
   "metadata": {},
   "outputs": [
    {
     "data": {
      "text/plain": [
       "{'apple': 50, 'ornage': 50, 'mango': 50}"
      ]
     },
     "execution_count": 9,
     "metadata": {},
     "output_type": "execute_result"
    }
   ],
   "source": [
    "d.fromkeys(fruits,50)"
   ]
  },
  {
   "cell_type": "code",
   "execution_count": 10,
   "metadata": {},
   "outputs": [
    {
     "data": {
      "text/plain": [
       "{}"
      ]
     },
     "execution_count": 10,
     "metadata": {},
     "output_type": "execute_result"
    }
   ],
   "source": [
    "d"
   ]
  },
  {
   "cell_type": "code",
   "execution_count": 11,
   "metadata": {},
   "outputs": [],
   "source": [
    "d=d.fromkeys(fruits,50)"
   ]
  },
  {
   "cell_type": "code",
   "execution_count": 12,
   "metadata": {},
   "outputs": [
    {
     "data": {
      "text/plain": [
       "{'apple': 50, 'ornage': 50, 'mango': 50}"
      ]
     },
     "execution_count": 12,
     "metadata": {},
     "output_type": "execute_result"
    }
   ],
   "source": [
    "d"
   ]
  },
  {
   "cell_type": "code",
   "execution_count": 13,
   "metadata": {},
   "outputs": [
    {
     "data": {
      "text/plain": [
       "{'apple': 50, 'ornage': 50, 'mango': 50}"
      ]
     },
     "execution_count": 13,
     "metadata": {},
     "output_type": "execute_result"
    }
   ],
   "source": [
    "f.fromkeys(fruits,50)"
   ]
  },
  {
   "cell_type": "code",
   "execution_count": 43,
   "metadata": {},
   "outputs": [],
   "source": [
    "b='broadwaysinfosys'"
   ]
  },
  {
   "cell_type": "code",
   "execution_count": 44,
   "metadata": {},
   "outputs": [],
   "source": [
    "c={}"
   ]
  },
  {
   "cell_type": "code",
   "execution_count": 45,
   "metadata": {},
   "outputs": [
    {
     "ename": "AttributeError",
     "evalue": "'str' object has no attribute 'get'",
     "output_type": "error",
     "traceback": [
      "\u001b[1;31m---------------------------------------------------------------------------\u001b[0m",
      "\u001b[1;31mAttributeError\u001b[0m                            Traceback (most recent call last)",
      "\u001b[1;32m<ipython-input-45-a95bad1e2737>\u001b[0m in \u001b[0;36m<module>\u001b[1;34m\u001b[0m\n\u001b[0;32m      1\u001b[0m \u001b[1;32mfor\u001b[0m \u001b[0mi\u001b[0m \u001b[1;32min\u001b[0m \u001b[0mb\u001b[0m\u001b[1;33m:\u001b[0m\u001b[1;33m\u001b[0m\u001b[1;33m\u001b[0m\u001b[0m\n\u001b[1;32m----> 2\u001b[1;33m     \u001b[0mb\u001b[0m\u001b[1;33m[\u001b[0m\u001b[0mi\u001b[0m\u001b[1;33m]\u001b[0m\u001b[1;33m=\u001b[0m \u001b[0mb\u001b[0m\u001b[1;33m.\u001b[0m\u001b[0mget\u001b[0m\u001b[1;33m(\u001b[0m\u001b[0mi\u001b[0m\u001b[1;33m,\u001b[0m\u001b[1;36m0\u001b[0m\u001b[1;33m)\u001b[0m\u001b[1;33m+\u001b[0m\u001b[1;36m1\u001b[0m\u001b[1;33m\u001b[0m\u001b[1;33m\u001b[0m\u001b[0m\n\u001b[0m",
      "\u001b[1;31mAttributeError\u001b[0m: 'str' object has no attribute 'get'"
     ]
    }
   ],
   "source": [
    "for i in b:\n",
    "    b[i]= b.get(i,0)+1"
   ]
  },
  {
   "cell_type": "code",
   "execution_count": 46,
   "metadata": {},
   "outputs": [
    {
     "data": {
      "text/plain": [
       "{'b': None,\n",
       " 'r': None,\n",
       " 'o': None,\n",
       " 'a': None,\n",
       " 'd': None,\n",
       " 'w': None,\n",
       " 'y': None,\n",
       " 's': None,\n",
       " 'i': None,\n",
       " 'n': None,\n",
       " 'f': None}"
      ]
     },
     "execution_count": 46,
     "metadata": {},
     "output_type": "execute_result"
    }
   ],
   "source": [
    "d"
   ]
  },
  {
   "cell_type": "code",
   "execution_count": 52,
   "metadata": {},
   "outputs": [],
   "source": [
    "s='broadwaysinfosys'"
   ]
  },
  {
   "cell_type": "code",
   "execution_count": 53,
   "metadata": {},
   "outputs": [],
   "source": [
    "from collections import Counter"
   ]
  },
  {
   "cell_type": "code",
   "execution_count": 54,
   "metadata": {},
   "outputs": [
    {
     "data": {
      "text/plain": [
       "Counter({'b': 1,\n",
       "         'r': 1,\n",
       "         'o': 2,\n",
       "         'a': 2,\n",
       "         'd': 1,\n",
       "         'w': 1,\n",
       "         'y': 2,\n",
       "         's': 3,\n",
       "         'i': 1,\n",
       "         'n': 1,\n",
       "         'f': 1})"
      ]
     },
     "execution_count": 54,
     "metadata": {},
     "output_type": "execute_result"
    }
   ],
   "source": [
    "Counter(s)"
   ]
  },
  {
   "cell_type": "code",
   "execution_count": 55,
   "metadata": {},
   "outputs": [],
   "source": [
    "import collections as col"
   ]
  },
  {
   "cell_type": "code",
   "execution_count": 57,
   "metadata": {},
   "outputs": [
    {
     "name": "stdout",
     "output_type": "stream",
     "text": [
      "Help on package collections:\n",
      "\n",
      "NAME\n",
      "    collections\n",
      "\n",
      "DESCRIPTION\n",
      "    This module implements specialized container datatypes providing\n",
      "    alternatives to Python's general purpose built-in containers, dict,\n",
      "    list, set, and tuple.\n",
      "    \n",
      "    * namedtuple   factory function for creating tuple subclasses with named fields\n",
      "    * deque        list-like container with fast appends and pops on either end\n",
      "    * ChainMap     dict-like class for creating a single view of multiple mappings\n",
      "    * Counter      dict subclass for counting hashable objects\n",
      "    * OrderedDict  dict subclass that remembers the order entries were added\n",
      "    * defaultdict  dict subclass that calls a factory function to supply missing values\n",
      "    * UserDict     wrapper around dictionary objects for easier dict subclassing\n",
      "    * UserList     wrapper around list objects for easier list subclassing\n",
      "    * UserString   wrapper around string objects for easier string subclassing\n",
      "\n",
      "PACKAGE CONTENTS\n",
      "    abc\n",
      "\n",
      "SUBMODULES\n",
      "    _collections_abc\n",
      "\n",
      "CLASSES\n",
      "    builtins.dict(builtins.object)\n",
      "        Counter\n",
      "        OrderedDict\n",
      "        defaultdict\n",
      "    builtins.object\n",
      "        deque\n",
      "    collections.abc.MutableMapping(collections.abc.Mapping)\n",
      "        ChainMap\n",
      "        UserDict\n",
      "    collections.abc.MutableSequence(collections.abc.Sequence)\n",
      "        UserList\n",
      "    collections.abc.Sequence(collections.abc.Reversible, collections.abc.Collection)\n",
      "        UserString\n",
      "    \n",
      "    class ChainMap(collections.abc.MutableMapping)\n",
      "     |  ChainMap(*maps)\n",
      "     |  \n",
      "     |  A ChainMap groups multiple dicts (or other mappings) together\n",
      "     |  to create a single, updateable view.\n",
      "     |  \n",
      "     |  The underlying mappings are stored in a list.  That list is public and can\n",
      "     |  be accessed or updated using the *maps* attribute.  There is no other\n",
      "     |  state.\n",
      "     |  \n",
      "     |  Lookups search the underlying mappings successively until a key is found.\n",
      "     |  In contrast, writes, updates, and deletions only operate on the first\n",
      "     |  mapping.\n",
      "     |  \n",
      "     |  Method resolution order:\n",
      "     |      ChainMap\n",
      "     |      collections.abc.MutableMapping\n",
      "     |      collections.abc.Mapping\n",
      "     |      collections.abc.Collection\n",
      "     |      collections.abc.Sized\n",
      "     |      collections.abc.Iterable\n",
      "     |      collections.abc.Container\n",
      "     |      builtins.object\n",
      "     |  \n",
      "     |  Methods defined here:\n",
      "     |  \n",
      "     |  __bool__(self)\n",
      "     |  \n",
      "     |  __contains__(self, key)\n",
      "     |  \n",
      "     |  __copy__ = copy(self)\n",
      "     |  \n",
      "     |  __delitem__(self, key)\n",
      "     |  \n",
      "     |  __getitem__(self, key)\n",
      "     |  \n",
      "     |  __init__(self, *maps)\n",
      "     |      Initialize a ChainMap by setting *maps* to the given mappings.\n",
      "     |      If no mappings are provided, a single empty dictionary is used.\n",
      "     |  \n",
      "     |  __iter__(self)\n",
      "     |  \n",
      "     |  __len__(self)\n",
      "     |  \n",
      "     |  __missing__(self, key)\n",
      "     |  \n",
      "     |  __repr__(self)\n",
      "     |      Return repr(self).\n",
      "     |  \n",
      "     |  __setitem__(self, key, value)\n",
      "     |  \n",
      "     |  clear(self)\n",
      "     |      Clear maps[0], leaving maps[1:] intact.\n",
      "     |  \n",
      "     |  copy(self)\n",
      "     |      New ChainMap or subclass with a new copy of maps[0] and refs to maps[1:]\n",
      "     |  \n",
      "     |  get(self, key, default=None)\n",
      "     |      D.get(k[,d]) -> D[k] if k in D, else d.  d defaults to None.\n",
      "     |  \n",
      "     |  new_child(self, m=None)\n",
      "     |      New ChainMap with a new map followed by all previous maps.\n",
      "     |      If no map is provided, an empty dict is used.\n",
      "     |  \n",
      "     |  pop(self, key, *args)\n",
      "     |      Remove *key* from maps[0] and return its value. Raise KeyError if *key* not in maps[0].\n",
      "     |  \n",
      "     |  popitem(self)\n",
      "     |      Remove and return an item pair from maps[0]. Raise KeyError is maps[0] is empty.\n",
      "     |  \n",
      "     |  ----------------------------------------------------------------------\n",
      "     |  Class methods defined here:\n",
      "     |  \n",
      "     |  fromkeys(iterable, *args) from abc.ABCMeta\n",
      "     |      Create a ChainMap with a single dict created from the iterable.\n",
      "     |  \n",
      "     |  ----------------------------------------------------------------------\n",
      "     |  Data descriptors defined here:\n",
      "     |  \n",
      "     |  __dict__\n",
      "     |      dictionary for instance variables (if defined)\n",
      "     |  \n",
      "     |  __weakref__\n",
      "     |      list of weak references to the object (if defined)\n",
      "     |  \n",
      "     |  parents\n",
      "     |      New ChainMap from maps[1:].\n",
      "     |  \n",
      "     |  ----------------------------------------------------------------------\n",
      "     |  Data and other attributes defined here:\n",
      "     |  \n",
      "     |  __abstractmethods__ = frozenset()\n",
      "     |  \n",
      "     |  ----------------------------------------------------------------------\n",
      "     |  Methods inherited from collections.abc.MutableMapping:\n",
      "     |  \n",
      "     |  setdefault(self, key, default=None)\n",
      "     |      D.setdefault(k[,d]) -> D.get(k,d), also set D[k]=d if k not in D\n",
      "     |  \n",
      "     |  update(*args, **kwds)\n",
      "     |      D.update([E, ]**F) -> None.  Update D from mapping/iterable E and F.\n",
      "     |      If E present and has a .keys() method, does:     for k in E: D[k] = E[k]\n",
      "     |      If E present and lacks .keys() method, does:     for (k, v) in E: D[k] = v\n",
      "     |      In either case, this is followed by: for k, v in F.items(): D[k] = v\n",
      "     |  \n",
      "     |  ----------------------------------------------------------------------\n",
      "     |  Methods inherited from collections.abc.Mapping:\n",
      "     |  \n",
      "     |  __eq__(self, other)\n",
      "     |      Return self==value.\n",
      "     |  \n",
      "     |  items(self)\n",
      "     |      D.items() -> a set-like object providing a view on D's items\n",
      "     |  \n",
      "     |  keys(self)\n",
      "     |      D.keys() -> a set-like object providing a view on D's keys\n",
      "     |  \n",
      "     |  values(self)\n",
      "     |      D.values() -> an object providing a view on D's values\n",
      "     |  \n",
      "     |  ----------------------------------------------------------------------\n",
      "     |  Data and other attributes inherited from collections.abc.Mapping:\n",
      "     |  \n",
      "     |  __hash__ = None\n",
      "     |  \n",
      "     |  __reversed__ = None\n",
      "     |  \n",
      "     |  ----------------------------------------------------------------------\n",
      "     |  Class methods inherited from collections.abc.Collection:\n",
      "     |  \n",
      "     |  __subclasshook__(C) from abc.ABCMeta\n",
      "     |      Abstract classes can override this to customize issubclass().\n",
      "     |      \n",
      "     |      This is invoked early on by abc.ABCMeta.__subclasscheck__().\n",
      "     |      It should return True, False or NotImplemented.  If it returns\n",
      "     |      NotImplemented, the normal algorithm is used.  Otherwise, it\n",
      "     |      overrides the normal algorithm (and the outcome is cached).\n",
      "    \n",
      "    class Counter(builtins.dict)\n",
      "     |  Counter(*args, **kwds)\n",
      "     |  \n",
      "     |  Dict subclass for counting hashable items.  Sometimes called a bag\n",
      "     |  or multiset.  Elements are stored as dictionary keys and their counts\n",
      "     |  are stored as dictionary values.\n",
      "     |  \n",
      "     |  >>> c = Counter('abcdeabcdabcaba')  # count elements from a string\n",
      "     |  \n",
      "     |  >>> c.most_common(3)                # three most common elements\n",
      "     |  [('a', 5), ('b', 4), ('c', 3)]\n",
      "     |  >>> sorted(c)                       # list all unique elements\n",
      "     |  ['a', 'b', 'c', 'd', 'e']\n",
      "     |  >>> ''.join(sorted(c.elements()))   # list elements with repetitions\n",
      "     |  'aaaaabbbbcccdde'\n",
      "     |  >>> sum(c.values())                 # total of all counts\n",
      "     |  15\n",
      "     |  \n",
      "     |  >>> c['a']                          # count of letter 'a'\n",
      "     |  5\n",
      "     |  >>> for elem in 'shazam':           # update counts from an iterable\n",
      "     |  ...     c[elem] += 1                # by adding 1 to each element's count\n",
      "     |  >>> c['a']                          # now there are seven 'a'\n",
      "     |  7\n",
      "     |  >>> del c['b']                      # remove all 'b'\n",
      "     |  >>> c['b']                          # now there are zero 'b'\n",
      "     |  0\n",
      "     |  \n",
      "     |  >>> d = Counter('simsalabim')       # make another counter\n",
      "     |  >>> c.update(d)                     # add in the second counter\n",
      "     |  >>> c['a']                          # now there are nine 'a'\n",
      "     |  9\n",
      "     |  \n",
      "     |  >>> c.clear()                       # empty the counter\n",
      "     |  >>> c\n",
      "     |  Counter()\n",
      "     |  \n",
      "     |  Note:  If a count is set to zero or reduced to zero, it will remain\n",
      "     |  in the counter until the entry is deleted or the counter is cleared:\n",
      "     |  \n",
      "     |  >>> c = Counter('aaabbc')\n",
      "     |  >>> c['b'] -= 2                     # reduce the count of 'b' by two\n",
      "     |  >>> c.most_common()                 # 'b' is still in, but its count is zero\n",
      "     |  [('a', 3), ('c', 1), ('b', 0)]\n",
      "     |  \n",
      "     |  Method resolution order:\n",
      "     |      Counter\n",
      "     |      builtins.dict\n",
      "     |      builtins.object\n",
      "     |  \n",
      "     |  Methods defined here:\n",
      "     |  \n",
      "     |  __add__(self, other)\n",
      "     |      Add counts from two counters.\n",
      "     |      \n",
      "     |      >>> Counter('abbb') + Counter('bcc')\n",
      "     |      Counter({'b': 4, 'c': 2, 'a': 1})\n",
      "     |  \n",
      "     |  __and__(self, other)\n",
      "     |      Intersection is the minimum of corresponding counts.\n",
      "     |      \n",
      "     |      >>> Counter('abbb') & Counter('bcc')\n",
      "     |      Counter({'b': 1})\n",
      "     |  \n",
      "     |  __delitem__(self, elem)\n",
      "     |      Like dict.__delitem__() but does not raise KeyError for missing values.\n",
      "     |  \n",
      "     |  __iadd__(self, other)\n",
      "     |      Inplace add from another counter, keeping only positive counts.\n",
      "     |      \n",
      "     |      >>> c = Counter('abbb')\n",
      "     |      >>> c += Counter('bcc')\n",
      "     |      >>> c\n",
      "     |      Counter({'b': 4, 'c': 2, 'a': 1})\n",
      "     |  \n",
      "     |  __iand__(self, other)\n",
      "     |      Inplace intersection is the minimum of corresponding counts.\n",
      "     |      \n",
      "     |      >>> c = Counter('abbb')\n",
      "     |      >>> c &= Counter('bcc')\n",
      "     |      >>> c\n",
      "     |      Counter({'b': 1})\n",
      "     |  \n",
      "     |  __init__(*args, **kwds)\n",
      "     |      Create a new, empty Counter object.  And if given, count elements\n",
      "     |      from an input iterable.  Or, initialize the count from another mapping\n",
      "     |      of elements to their counts.\n",
      "     |      \n",
      "     |      >>> c = Counter()                           # a new, empty counter\n",
      "     |      >>> c = Counter('gallahad')                 # a new counter from an iterable\n",
      "     |      >>> c = Counter({'a': 4, 'b': 2})           # a new counter from a mapping\n",
      "     |      >>> c = Counter(a=4, b=2)                   # a new counter from keyword args\n",
      "     |  \n",
      "     |  __ior__(self, other)\n",
      "     |      Inplace union is the maximum of value from either counter.\n",
      "     |      \n",
      "     |      >>> c = Counter('abbb')\n",
      "     |      >>> c |= Counter('bcc')\n",
      "     |      >>> c\n",
      "     |      Counter({'b': 3, 'c': 2, 'a': 1})\n",
      "     |  \n",
      "     |  __isub__(self, other)\n",
      "     |      Inplace subtract counter, but keep only results with positive counts.\n",
      "     |      \n",
      "     |      >>> c = Counter('abbbc')\n",
      "     |      >>> c -= Counter('bccd')\n",
      "     |      >>> c\n",
      "     |      Counter({'b': 2, 'a': 1})\n",
      "     |  \n",
      "     |  __missing__(self, key)\n",
      "     |      The count of elements not in the Counter is zero.\n",
      "     |  \n",
      "     |  __neg__(self)\n",
      "     |      Subtracts from an empty counter.  Strips positive and zero counts,\n",
      "     |      and flips the sign on negative counts.\n",
      "     |  \n",
      "     |  __or__(self, other)\n",
      "     |      Union is the maximum of value in either of the input counters.\n",
      "     |      \n",
      "     |      >>> Counter('abbb') | Counter('bcc')\n",
      "     |      Counter({'b': 3, 'c': 2, 'a': 1})\n",
      "     |  \n",
      "     |  __pos__(self)\n",
      "     |      Adds an empty counter, effectively stripping negative and zero counts\n",
      "     |  \n",
      "     |  __reduce__(self)\n",
      "     |      Helper for pickle.\n",
      "     |  \n",
      "     |  __repr__(self)\n",
      "     |      Return repr(self).\n",
      "     |  \n",
      "     |  __sub__(self, other)\n",
      "     |      Subtract count, but keep only results with positive counts.\n",
      "     |      \n",
      "     |      >>> Counter('abbbc') - Counter('bccd')\n",
      "     |      Counter({'b': 2, 'a': 1})\n",
      "     |  \n",
      "     |  copy(self)\n",
      "     |      Return a shallow copy.\n",
      "     |  \n",
      "     |  elements(self)\n",
      "     |      Iterator over elements repeating each as many times as its count.\n",
      "     |      \n",
      "     |      >>> c = Counter('ABCABC')\n",
      "     |      >>> sorted(c.elements())\n",
      "     |      ['A', 'A', 'B', 'B', 'C', 'C']\n",
      "     |      \n",
      "     |      # Knuth's example for prime factors of 1836:  2**2 * 3**3 * 17**1\n",
      "     |      >>> prime_factors = Counter({2: 2, 3: 3, 17: 1})\n",
      "     |      >>> product = 1\n",
      "     |      >>> for factor in prime_factors.elements():     # loop over factors\n",
      "     |      ...     product *= factor                       # and multiply them\n",
      "     |      >>> product\n",
      "     |      1836\n",
      "     |      \n",
      "     |      Note, if an element's count has been set to zero or is a negative\n",
      "     |      number, elements() will ignore it.\n",
      "     |  \n",
      "     |  most_common(self, n=None)\n",
      "     |      List the n most common elements and their counts from the most\n",
      "     |      common to the least.  If n is None, then list all element counts.\n",
      "     |      \n",
      "     |      >>> Counter('abcdeabcdabcaba').most_common(3)\n",
      "     |      [('a', 5), ('b', 4), ('c', 3)]\n",
      "     |  \n",
      "     |  subtract(*args, **kwds)\n",
      "     |      Like dict.update() but subtracts counts instead of replacing them.\n",
      "     |      Counts can be reduced below zero.  Both the inputs and outputs are\n",
      "     |      allowed to contain zero and negative counts.\n",
      "     |      \n",
      "     |      Source can be an iterable, a dictionary, or another Counter instance.\n",
      "     |      \n",
      "     |      >>> c = Counter('which')\n",
      "     |      >>> c.subtract('witch')             # subtract elements from another iterable\n",
      "     |      >>> c.subtract(Counter('watch'))    # subtract elements from another counter\n",
      "     |      >>> c['h']                          # 2 in which, minus 1 in witch, minus 1 in watch\n",
      "     |      0\n",
      "     |      >>> c['w']                          # 1 in which, minus 1 in witch, minus 1 in watch\n",
      "     |      -1\n",
      "     |  \n",
      "     |  update(*args, **kwds)\n",
      "     |      Like dict.update() but add counts instead of replacing them.\n",
      "     |      \n",
      "     |      Source can be an iterable, a dictionary, or another Counter instance.\n",
      "     |      \n",
      "     |      >>> c = Counter('which')\n",
      "     |      >>> c.update('witch')           # add elements from another iterable\n",
      "     |      >>> d = Counter('watch')\n",
      "     |      >>> c.update(d)                 # add elements from another counter\n",
      "     |      >>> c['h']                      # four 'h' in which, witch, and watch\n",
      "     |      4\n",
      "     |  \n",
      "     |  ----------------------------------------------------------------------\n",
      "     |  Class methods defined here:\n",
      "     |  \n",
      "     |  fromkeys(iterable, v=None) from builtins.type\n",
      "     |      Create a new dictionary with keys from iterable and values set to value.\n",
      "     |  \n",
      "     |  ----------------------------------------------------------------------\n",
      "     |  Data descriptors defined here:\n",
      "     |  \n",
      "     |  __dict__\n",
      "     |      dictionary for instance variables (if defined)\n",
      "     |  \n",
      "     |  __weakref__\n",
      "     |      list of weak references to the object (if defined)\n",
      "     |  \n",
      "     |  ----------------------------------------------------------------------\n",
      "     |  Methods inherited from builtins.dict:\n",
      "     |  \n",
      "     |  __contains__(self, key, /)\n",
      "     |      True if the dictionary has the specified key, else False.\n",
      "     |  \n",
      "     |  __eq__(self, value, /)\n",
      "     |      Return self==value.\n",
      "     |  \n",
      "     |  __ge__(self, value, /)\n",
      "     |      Return self>=value.\n",
      "     |  \n",
      "     |  __getattribute__(self, name, /)\n",
      "     |      Return getattr(self, name).\n",
      "     |  \n",
      "     |  __getitem__(...)\n",
      "     |      x.__getitem__(y) <==> x[y]\n",
      "     |  \n",
      "     |  __gt__(self, value, /)\n",
      "     |      Return self>value.\n",
      "     |  \n",
      "     |  __iter__(self, /)\n",
      "     |      Implement iter(self).\n",
      "     |  \n",
      "     |  __le__(self, value, /)\n",
      "     |      Return self<=value.\n",
      "     |  \n",
      "     |  __len__(self, /)\n",
      "     |      Return len(self).\n",
      "     |  \n",
      "     |  __lt__(self, value, /)\n",
      "     |      Return self<value.\n",
      "     |  \n",
      "     |  __ne__(self, value, /)\n",
      "     |      Return self!=value.\n",
      "     |  \n",
      "     |  __setitem__(self, key, value, /)\n",
      "     |      Set self[key] to value.\n",
      "     |  \n",
      "     |  __sizeof__(...)\n",
      "     |      D.__sizeof__() -> size of D in memory, in bytes\n",
      "     |  \n",
      "     |  clear(...)\n",
      "     |      D.clear() -> None.  Remove all items from D.\n",
      "     |  \n",
      "     |  get(self, key, default=None, /)\n",
      "     |      Return the value for key if key is in the dictionary, else default.\n",
      "     |  \n",
      "     |  items(...)\n",
      "     |      D.items() -> a set-like object providing a view on D's items\n",
      "     |  \n",
      "     |  keys(...)\n",
      "     |      D.keys() -> a set-like object providing a view on D's keys\n",
      "     |  \n",
      "     |  pop(...)\n",
      "     |      D.pop(k[,d]) -> v, remove specified key and return the corresponding value.\n",
      "     |      If key is not found, d is returned if given, otherwise KeyError is raised\n",
      "     |  \n",
      "     |  popitem(...)\n",
      "     |      D.popitem() -> (k, v), remove and return some (key, value) pair as a\n",
      "     |      2-tuple; but raise KeyError if D is empty.\n",
      "     |  \n",
      "     |  setdefault(self, key, default=None, /)\n",
      "     |      Insert key with a value of default if key is not in the dictionary.\n",
      "     |      \n",
      "     |      Return the value for key if key is in the dictionary, else default.\n",
      "     |  \n",
      "     |  values(...)\n",
      "     |      D.values() -> an object providing a view on D's values\n",
      "     |  \n",
      "     |  ----------------------------------------------------------------------\n",
      "     |  Static methods inherited from builtins.dict:\n",
      "     |  \n",
      "     |  __new__(*args, **kwargs) from builtins.type\n",
      "     |      Create and return a new object.  See help(type) for accurate signature.\n",
      "     |  \n",
      "     |  ----------------------------------------------------------------------\n",
      "     |  Data and other attributes inherited from builtins.dict:\n",
      "     |  \n",
      "     |  __hash__ = None\n",
      "    \n",
      "    class OrderedDict(builtins.dict)\n",
      "     |  Dictionary that remembers insertion order\n",
      "     |  \n",
      "     |  Method resolution order:\n",
      "     |      OrderedDict\n",
      "     |      builtins.dict\n",
      "     |      builtins.object\n",
      "     |  \n",
      "     |  Methods defined here:\n",
      "     |  \n",
      "     |  __delitem__(self, key, /)\n",
      "     |      Delete self[key].\n",
      "     |  \n",
      "     |  __eq__(self, value, /)\n",
      "     |      Return self==value.\n",
      "     |  \n",
      "     |  __ge__(self, value, /)\n",
      "     |      Return self>=value.\n",
      "     |  \n",
      "     |  __gt__(self, value, /)\n",
      "     |      Return self>value.\n",
      "     |  \n",
      "     |  __init__(self, /, *args, **kwargs)\n",
      "     |      Initialize self.  See help(type(self)) for accurate signature.\n",
      "     |  \n",
      "     |  __iter__(self, /)\n",
      "     |      Implement iter(self).\n",
      "     |  \n",
      "     |  __le__(self, value, /)\n",
      "     |      Return self<=value.\n",
      "     |  \n",
      "     |  __lt__(self, value, /)\n",
      "     |      Return self<value.\n",
      "     |  \n",
      "     |  __ne__(self, value, /)\n",
      "     |      Return self!=value.\n",
      "     |  \n",
      "     |  __reduce__(...)\n",
      "     |      Return state information for pickling\n",
      "     |  \n",
      "     |  __repr__(self, /)\n",
      "     |      Return repr(self).\n",
      "     |  \n",
      "     |  __reversed__(...)\n",
      "     |      od.__reversed__() <==> reversed(od)\n",
      "     |  \n",
      "     |  __setitem__(self, key, value, /)\n",
      "     |      Set self[key] to value.\n",
      "     |  \n",
      "     |  __sizeof__(...)\n",
      "     |      D.__sizeof__() -> size of D in memory, in bytes\n",
      "     |  \n",
      "     |  clear(...)\n",
      "     |      od.clear() -> None.  Remove all items from od.\n",
      "     |  \n",
      "     |  copy(...)\n",
      "     |      od.copy() -> a shallow copy of od\n",
      "     |  \n",
      "     |  items(...)\n",
      "     |      D.items() -> a set-like object providing a view on D's items\n",
      "     |  \n",
      "     |  keys(...)\n",
      "     |      D.keys() -> a set-like object providing a view on D's keys\n",
      "     |  \n",
      "     |  move_to_end(self, /, key, last=True)\n",
      "     |      Move an existing element to the end (or beginning if last is false).\n",
      "     |      \n",
      "     |      Raise KeyError if the element does not exist.\n",
      "     |  \n",
      "     |  pop(...)\n",
      "     |      od.pop(k[,d]) -> v, remove specified key and return the corresponding\n",
      "     |      value.  If key is not found, d is returned if given, otherwise KeyError\n",
      "     |      is raised.\n",
      "     |  \n",
      "     |  popitem(self, /, last=True)\n",
      "     |      Remove and return a (key, value) pair from the dictionary.\n",
      "     |      \n",
      "     |      Pairs are returned in LIFO order if last is true or FIFO order if false.\n",
      "     |  \n",
      "     |  setdefault(self, /, key, default=None)\n",
      "     |      Insert key with a value of default if key is not in the dictionary.\n",
      "     |      \n",
      "     |      Return the value for key if key is in the dictionary, else default.\n",
      "     |  \n",
      "     |  update(...)\n",
      "     |      D.update([E, ]**F) -> None.  Update D from dict/iterable E and F.\n",
      "     |      If E is present and has a .keys() method, then does:  for k in E: D[k] = E[k]\n",
      "     |      If E is present and lacks a .keys() method, then does:  for k, v in E: D[k] = v\n",
      "     |      In either case, this is followed by: for k in F:  D[k] = F[k]\n",
      "     |  \n",
      "     |  values(...)\n",
      "     |      D.values() -> an object providing a view on D's values\n",
      "     |  \n",
      "     |  ----------------------------------------------------------------------\n",
      "     |  Class methods defined here:\n",
      "     |  \n",
      "     |  fromkeys(iterable, value=None) from builtins.type\n",
      "     |      Create a new ordered dictionary with keys from iterable and values set to value.\n",
      "     |  \n",
      "     |  ----------------------------------------------------------------------\n",
      "     |  Static methods defined here:\n",
      "     |  \n",
      "     |  __new__(*args, **kwargs) from builtins.type\n",
      "     |      Create and return a new object.  See help(type) for accurate signature.\n",
      "     |  \n",
      "     |  ----------------------------------------------------------------------\n",
      "     |  Data descriptors defined here:\n",
      "     |  \n",
      "     |  __dict__\n",
      "     |  \n",
      "     |  ----------------------------------------------------------------------\n",
      "     |  Data and other attributes defined here:\n",
      "     |  \n",
      "     |  __hash__ = None\n",
      "     |  \n",
      "     |  ----------------------------------------------------------------------\n",
      "     |  Methods inherited from builtins.dict:\n",
      "     |  \n",
      "     |  __contains__(self, key, /)\n",
      "     |      True if the dictionary has the specified key, else False.\n",
      "     |  \n",
      "     |  __getattribute__(self, name, /)\n",
      "     |      Return getattr(self, name).\n",
      "     |  \n",
      "     |  __getitem__(...)\n",
      "     |      x.__getitem__(y) <==> x[y]\n",
      "     |  \n",
      "     |  __len__(self, /)\n",
      "     |      Return len(self).\n",
      "     |  \n",
      "     |  get(self, key, default=None, /)\n",
      "     |      Return the value for key if key is in the dictionary, else default.\n",
      "    \n",
      "    class UserDict(collections.abc.MutableMapping)\n",
      "     |  UserDict(*args, **kwargs)\n",
      "     |  \n",
      "     |  Method resolution order:\n",
      "     |      UserDict\n",
      "     |      collections.abc.MutableMapping\n",
      "     |      collections.abc.Mapping\n",
      "     |      collections.abc.Collection\n",
      "     |      collections.abc.Sized\n",
      "     |      collections.abc.Iterable\n",
      "     |      collections.abc.Container\n",
      "     |      builtins.object\n",
      "     |  \n",
      "     |  Methods defined here:\n",
      "     |  \n",
      "     |  __contains__(self, key)\n",
      "     |      # Modify __contains__ to work correctly when __missing__ is present\n",
      "     |  \n",
      "     |  __delitem__(self, key)\n",
      "     |  \n",
      "     |  __getitem__(self, key)\n",
      "     |  \n",
      "     |  __init__(*args, **kwargs)\n",
      "     |      Initialize self.  See help(type(self)) for accurate signature.\n",
      "     |  \n",
      "     |  __iter__(self)\n",
      "     |  \n",
      "     |  __len__(self)\n",
      "     |  \n",
      "     |  __repr__(self)\n",
      "     |      Return repr(self).\n",
      "     |  \n",
      "     |  __setitem__(self, key, item)\n",
      "     |  \n",
      "     |  copy(self)\n",
      "     |  \n",
      "     |  ----------------------------------------------------------------------\n",
      "     |  Class methods defined here:\n",
      "     |  \n",
      "     |  fromkeys(iterable, value=None) from abc.ABCMeta\n",
      "     |  \n",
      "     |  ----------------------------------------------------------------------\n",
      "     |  Data descriptors defined here:\n",
      "     |  \n",
      "     |  __dict__\n",
      "     |      dictionary for instance variables (if defined)\n",
      "     |  \n",
      "     |  __weakref__\n",
      "     |      list of weak references to the object (if defined)\n",
      "     |  \n",
      "     |  ----------------------------------------------------------------------\n",
      "     |  Data and other attributes defined here:\n",
      "     |  \n",
      "     |  __abstractmethods__ = frozenset()\n",
      "     |  \n",
      "     |  ----------------------------------------------------------------------\n",
      "     |  Methods inherited from collections.abc.MutableMapping:\n",
      "     |  \n",
      "     |  clear(self)\n",
      "     |      D.clear() -> None.  Remove all items from D.\n",
      "     |  \n",
      "     |  pop(self, key, default=<object object at 0x000001B67C25E070>)\n",
      "     |      D.pop(k[,d]) -> v, remove specified key and return the corresponding value.\n",
      "     |      If key is not found, d is returned if given, otherwise KeyError is raised.\n",
      "     |  \n",
      "     |  popitem(self)\n",
      "     |      D.popitem() -> (k, v), remove and return some (key, value) pair\n",
      "     |      as a 2-tuple; but raise KeyError if D is empty.\n",
      "     |  \n",
      "     |  setdefault(self, key, default=None)\n",
      "     |      D.setdefault(k[,d]) -> D.get(k,d), also set D[k]=d if k not in D\n",
      "     |  \n",
      "     |  update(*args, **kwds)\n",
      "     |      D.update([E, ]**F) -> None.  Update D from mapping/iterable E and F.\n",
      "     |      If E present and has a .keys() method, does:     for k in E: D[k] = E[k]\n",
      "     |      If E present and lacks .keys() method, does:     for (k, v) in E: D[k] = v\n",
      "     |      In either case, this is followed by: for k, v in F.items(): D[k] = v\n",
      "     |  \n",
      "     |  ----------------------------------------------------------------------\n",
      "     |  Methods inherited from collections.abc.Mapping:\n",
      "     |  \n",
      "     |  __eq__(self, other)\n",
      "     |      Return self==value.\n",
      "     |  \n",
      "     |  get(self, key, default=None)\n",
      "     |      D.get(k[,d]) -> D[k] if k in D, else d.  d defaults to None.\n",
      "     |  \n",
      "     |  items(self)\n",
      "     |      D.items() -> a set-like object providing a view on D's items\n",
      "     |  \n",
      "     |  keys(self)\n",
      "     |      D.keys() -> a set-like object providing a view on D's keys\n",
      "     |  \n",
      "     |  values(self)\n",
      "     |      D.values() -> an object providing a view on D's values\n",
      "     |  \n",
      "     |  ----------------------------------------------------------------------\n",
      "     |  Data and other attributes inherited from collections.abc.Mapping:\n",
      "     |  \n",
      "     |  __hash__ = None\n",
      "     |  \n",
      "     |  __reversed__ = None\n",
      "     |  \n",
      "     |  ----------------------------------------------------------------------\n",
      "     |  Class methods inherited from collections.abc.Collection:\n",
      "     |  \n",
      "     |  __subclasshook__(C) from abc.ABCMeta\n",
      "     |      Abstract classes can override this to customize issubclass().\n",
      "     |      \n",
      "     |      This is invoked early on by abc.ABCMeta.__subclasscheck__().\n",
      "     |      It should return True, False or NotImplemented.  If it returns\n",
      "     |      NotImplemented, the normal algorithm is used.  Otherwise, it\n",
      "     |      overrides the normal algorithm (and the outcome is cached).\n",
      "    \n",
      "    class UserList(collections.abc.MutableSequence)\n",
      "     |  UserList(initlist=None)\n",
      "     |  \n",
      "     |  A more or less complete user-defined wrapper around list objects.\n",
      "     |  \n",
      "     |  Method resolution order:\n",
      "     |      UserList\n",
      "     |      collections.abc.MutableSequence\n",
      "     |      collections.abc.Sequence\n",
      "     |      collections.abc.Reversible\n",
      "     |      collections.abc.Collection\n",
      "     |      collections.abc.Sized\n",
      "     |      collections.abc.Iterable\n",
      "     |      collections.abc.Container\n",
      "     |      builtins.object\n",
      "     |  \n",
      "     |  Methods defined here:\n",
      "     |  \n",
      "     |  __add__(self, other)\n",
      "     |  \n",
      "     |  __contains__(self, item)\n",
      "     |  \n",
      "     |  __delitem__(self, i)\n",
      "     |  \n",
      "     |  __eq__(self, other)\n",
      "     |      Return self==value.\n",
      "     |  \n",
      "     |  __ge__(self, other)\n",
      "     |      Return self>=value.\n",
      "     |  \n",
      "     |  __getitem__(self, i)\n",
      "     |  \n",
      "     |  __gt__(self, other)\n",
      "     |      Return self>value.\n",
      "     |  \n",
      "     |  __iadd__(self, other)\n",
      "     |  \n",
      "     |  __imul__(self, n)\n",
      "     |  \n",
      "     |  __init__(self, initlist=None)\n",
      "     |      Initialize self.  See help(type(self)) for accurate signature.\n",
      "     |  \n",
      "     |  __le__(self, other)\n",
      "     |      Return self<=value.\n",
      "     |  \n",
      "     |  __len__(self)\n",
      "     |  \n",
      "     |  __lt__(self, other)\n",
      "     |      Return self<value.\n",
      "     |  \n",
      "     |  __mul__(self, n)\n",
      "     |  \n",
      "     |  __radd__(self, other)\n",
      "     |  \n",
      "     |  __repr__(self)\n",
      "     |      Return repr(self).\n",
      "     |  \n",
      "     |  __rmul__ = __mul__(self, n)\n",
      "     |  \n",
      "     |  __setitem__(self, i, item)\n",
      "     |  \n",
      "     |  append(self, item)\n",
      "     |      S.append(value) -- append value to the end of the sequence\n",
      "     |  \n",
      "     |  clear(self)\n",
      "     |      S.clear() -> None -- remove all items from S\n",
      "     |  \n",
      "     |  copy(self)\n",
      "     |  \n",
      "     |  count(self, item)\n",
      "     |      S.count(value) -> integer -- return number of occurrences of value\n",
      "     |  \n",
      "     |  extend(self, other)\n",
      "     |      S.extend(iterable) -- extend sequence by appending elements from the iterable\n",
      "     |  \n",
      "     |  index(self, item, *args)\n",
      "     |      S.index(value, [start, [stop]]) -> integer -- return first index of value.\n",
      "     |      Raises ValueError if the value is not present.\n",
      "     |      \n",
      "     |      Supporting start and stop arguments is optional, but\n",
      "     |      recommended.\n",
      "     |  \n",
      "     |  insert(self, i, item)\n",
      "     |      S.insert(index, value) -- insert value before index\n",
      "     |  \n",
      "     |  pop(self, i=-1)\n",
      "     |      S.pop([index]) -> item -- remove and return item at index (default last).\n",
      "     |      Raise IndexError if list is empty or index is out of range.\n",
      "     |  \n",
      "     |  remove(self, item)\n",
      "     |      S.remove(value) -- remove first occurrence of value.\n",
      "     |      Raise ValueError if the value is not present.\n",
      "     |  \n",
      "     |  reverse(self)\n",
      "     |      S.reverse() -- reverse *IN PLACE*\n",
      "     |  \n",
      "     |  sort(self, *args, **kwds)\n",
      "     |  \n",
      "     |  ----------------------------------------------------------------------\n",
      "     |  Data descriptors defined here:\n",
      "     |  \n",
      "     |  __dict__\n",
      "     |      dictionary for instance variables (if defined)\n",
      "     |  \n",
      "     |  __weakref__\n",
      "     |      list of weak references to the object (if defined)\n",
      "     |  \n",
      "     |  ----------------------------------------------------------------------\n",
      "     |  Data and other attributes defined here:\n",
      "     |  \n",
      "     |  __abstractmethods__ = frozenset()\n",
      "     |  \n",
      "     |  __hash__ = None\n",
      "     |  \n",
      "     |  ----------------------------------------------------------------------\n",
      "     |  Methods inherited from collections.abc.Sequence:\n",
      "     |  \n",
      "     |  __iter__(self)\n",
      "     |  \n",
      "     |  __reversed__(self)\n",
      "     |  \n",
      "     |  ----------------------------------------------------------------------\n",
      "     |  Class methods inherited from collections.abc.Reversible:\n",
      "     |  \n",
      "     |  __subclasshook__(C) from abc.ABCMeta\n",
      "     |      Abstract classes can override this to customize issubclass().\n",
      "     |      \n",
      "     |      This is invoked early on by abc.ABCMeta.__subclasscheck__().\n",
      "     |      It should return True, False or NotImplemented.  If it returns\n",
      "     |      NotImplemented, the normal algorithm is used.  Otherwise, it\n",
      "     |      overrides the normal algorithm (and the outcome is cached).\n",
      "    \n",
      "    class UserString(collections.abc.Sequence)\n",
      "     |  UserString(seq)\n",
      "     |  \n",
      "     |  All the operations on a read-only sequence.\n",
      "     |  \n",
      "     |  Concrete subclasses must override __new__ or __init__,\n",
      "     |  __getitem__, and __len__.\n",
      "     |  \n",
      "     |  Method resolution order:\n",
      "     |      UserString\n",
      "     |      collections.abc.Sequence\n",
      "     |      collections.abc.Reversible\n",
      "     |      collections.abc.Collection\n",
      "     |      collections.abc.Sized\n",
      "     |      collections.abc.Iterable\n",
      "     |      collections.abc.Container\n",
      "     |      builtins.object\n",
      "     |  \n",
      "     |  Methods defined here:\n",
      "     |  \n",
      "     |  __add__(self, other)\n",
      "     |  \n",
      "     |  __complex__(self)\n",
      "     |  \n",
      "     |  __contains__(self, char)\n",
      "     |  \n",
      "     |  __eq__(self, string)\n",
      "     |      Return self==value.\n",
      "     |  \n",
      "     |  __float__(self)\n",
      "     |  \n",
      "     |  __ge__(self, string)\n",
      "     |      Return self>=value.\n",
      "     |  \n",
      "     |  __getitem__(self, index)\n",
      "     |  \n",
      "     |  __getnewargs__(self)\n",
      "     |  \n",
      "     |  __gt__(self, string)\n",
      "     |      Return self>value.\n",
      "     |  \n",
      "     |  __hash__(self)\n",
      "     |      Return hash(self).\n",
      "     |  \n",
      "     |  __init__(self, seq)\n",
      "     |      Initialize self.  See help(type(self)) for accurate signature.\n",
      "     |  \n",
      "     |  __int__(self)\n",
      "     |  \n",
      "     |  __le__(self, string)\n",
      "     |      Return self<=value.\n",
      "     |  \n",
      "     |  __len__(self)\n",
      "     |  \n",
      "     |  __lt__(self, string)\n",
      "     |      Return self<value.\n",
      "     |  \n",
      "     |  __mod__(self, args)\n",
      "     |  \n",
      "     |  __mul__(self, n)\n",
      "     |  \n",
      "     |  __radd__(self, other)\n",
      "     |  \n",
      "     |  __repr__(self)\n",
      "     |      Return repr(self).\n",
      "     |  \n",
      "     |  __rmod__(self, format)\n",
      "     |  \n",
      "     |  __rmul__ = __mul__(self, n)\n",
      "     |  \n",
      "     |  __str__(self)\n",
      "     |      Return str(self).\n",
      "     |  \n",
      "     |  capitalize(self)\n",
      "     |      # the following methods are defined in alphabetical order:\n",
      "     |  \n",
      "     |  casefold(self)\n",
      "     |  \n",
      "     |  center(self, width, *args)\n",
      "     |  \n",
      "     |  count(self, sub, start=0, end=9223372036854775807)\n",
      "     |      S.count(value) -> integer -- return number of occurrences of value\n",
      "     |  \n",
      "     |  encode(self, encoding=None, errors=None)\n",
      "     |  \n",
      "     |  endswith(self, suffix, start=0, end=9223372036854775807)\n",
      "     |  \n",
      "     |  expandtabs(self, tabsize=8)\n",
      "     |  \n",
      "     |  find(self, sub, start=0, end=9223372036854775807)\n",
      "     |  \n",
      "     |  format(self, *args, **kwds)\n",
      "     |  \n",
      "     |  format_map(self, mapping)\n",
      "     |  \n",
      "     |  index(self, sub, start=0, end=9223372036854775807)\n",
      "     |      S.index(value, [start, [stop]]) -> integer -- return first index of value.\n",
      "     |      Raises ValueError if the value is not present.\n",
      "     |      \n",
      "     |      Supporting start and stop arguments is optional, but\n",
      "     |      recommended.\n",
      "     |  \n",
      "     |  isalnum(self)\n",
      "     |  \n",
      "     |  isalpha(self)\n",
      "     |  \n",
      "     |  isascii(self)\n",
      "     |  \n",
      "     |  isdecimal(self)\n",
      "     |  \n",
      "     |  isdigit(self)\n",
      "     |  \n",
      "     |  isidentifier(self)\n",
      "     |  \n",
      "     |  islower(self)\n",
      "     |  \n",
      "     |  isnumeric(self)\n",
      "     |  \n",
      "     |  isprintable(self)\n",
      "     |  \n",
      "     |  isspace(self)\n",
      "     |  \n",
      "     |  istitle(self)\n",
      "     |  \n",
      "     |  isupper(self)\n",
      "     |  \n",
      "     |  join(self, seq)\n",
      "     |  \n",
      "     |  ljust(self, width, *args)\n",
      "     |  \n",
      "     |  lower(self)\n",
      "     |  \n",
      "     |  lstrip(self, chars=None)\n",
      "     |  \n",
      "     |  partition(self, sep)\n",
      "     |  \n",
      "     |  replace(self, old, new, maxsplit=-1)\n",
      "     |  \n",
      "     |  rfind(self, sub, start=0, end=9223372036854775807)\n",
      "     |  \n",
      "     |  rindex(self, sub, start=0, end=9223372036854775807)\n",
      "     |  \n",
      "     |  rjust(self, width, *args)\n",
      "     |  \n",
      "     |  rpartition(self, sep)\n",
      "     |  \n",
      "     |  rsplit(self, sep=None, maxsplit=-1)\n",
      "     |  \n",
      "     |  rstrip(self, chars=None)\n",
      "     |  \n",
      "     |  split(self, sep=None, maxsplit=-1)\n",
      "     |  \n",
      "     |  splitlines(self, keepends=False)\n",
      "     |  \n",
      "     |  startswith(self, prefix, start=0, end=9223372036854775807)\n",
      "     |  \n",
      "     |  strip(self, chars=None)\n",
      "     |  \n",
      "     |  swapcase(self)\n",
      "     |  \n",
      "     |  title(self)\n",
      "     |  \n",
      "     |  translate(self, *args)\n",
      "     |  \n",
      "     |  upper(self)\n",
      "     |  \n",
      "     |  zfill(self, width)\n",
      "     |  \n",
      "     |  ----------------------------------------------------------------------\n",
      "     |  Static methods defined here:\n",
      "     |  \n",
      "     |  maketrans(x, y=None, z=None, /)\n",
      "     |      Return a translation table usable for str.translate().\n",
      "     |      \n",
      "     |      If there is only one argument, it must be a dictionary mapping Unicode\n",
      "     |      ordinals (integers) or characters to Unicode ordinals, strings or None.\n",
      "     |      Character keys will be then converted to ordinals.\n",
      "     |      If there are two arguments, they must be strings of equal length, and\n",
      "     |      in the resulting dictionary, each character in x will be mapped to the\n",
      "     |      character at the same position in y. If there is a third argument, it\n",
      "     |      must be a string, whose characters will be mapped to None in the result.\n",
      "     |  \n",
      "     |  ----------------------------------------------------------------------\n",
      "     |  Data descriptors defined here:\n",
      "     |  \n",
      "     |  __dict__\n",
      "     |      dictionary for instance variables (if defined)\n",
      "     |  \n",
      "     |  __weakref__\n",
      "     |      list of weak references to the object (if defined)\n",
      "     |  \n",
      "     |  ----------------------------------------------------------------------\n",
      "     |  Data and other attributes defined here:\n",
      "     |  \n",
      "     |  __abstractmethods__ = frozenset()\n",
      "     |  \n",
      "     |  ----------------------------------------------------------------------\n",
      "     |  Methods inherited from collections.abc.Sequence:\n",
      "     |  \n",
      "     |  __iter__(self)\n",
      "     |  \n",
      "     |  __reversed__(self)\n",
      "     |  \n",
      "     |  ----------------------------------------------------------------------\n",
      "     |  Class methods inherited from collections.abc.Reversible:\n",
      "     |  \n",
      "     |  __subclasshook__(C) from abc.ABCMeta\n",
      "     |      Abstract classes can override this to customize issubclass().\n",
      "     |      \n",
      "     |      This is invoked early on by abc.ABCMeta.__subclasscheck__().\n",
      "     |      It should return True, False or NotImplemented.  If it returns\n",
      "     |      NotImplemented, the normal algorithm is used.  Otherwise, it\n",
      "     |      overrides the normal algorithm (and the outcome is cached).\n",
      "    \n",
      "    class defaultdict(builtins.dict)\n",
      "     |  defaultdict(default_factory[, ...]) --> dict with default factory\n",
      "     |  \n",
      "     |  The default factory is called without arguments to produce\n",
      "     |  a new value when a key is not present, in __getitem__ only.\n",
      "     |  A defaultdict compares equal to a dict with the same items.\n",
      "     |  All remaining arguments are treated the same as if they were\n",
      "     |  passed to the dict constructor, including keyword arguments.\n",
      "     |  \n",
      "     |  Method resolution order:\n",
      "     |      defaultdict\n",
      "     |      builtins.dict\n",
      "     |      builtins.object\n",
      "     |  \n",
      "     |  Methods defined here:\n",
      "     |  \n",
      "     |  __copy__(...)\n",
      "     |      D.copy() -> a shallow copy of D.\n",
      "     |  \n",
      "     |  __getattribute__(self, name, /)\n",
      "     |      Return getattr(self, name).\n",
      "     |  \n",
      "     |  __init__(self, /, *args, **kwargs)\n",
      "     |      Initialize self.  See help(type(self)) for accurate signature.\n",
      "     |  \n",
      "     |  __missing__(...)\n",
      "     |      __missing__(key) # Called by __getitem__ for missing key; pseudo-code:\n",
      "     |      if self.default_factory is None: raise KeyError((key,))\n",
      "     |      self[key] = value = self.default_factory()\n",
      "     |      return value\n",
      "     |  \n",
      "     |  __reduce__(...)\n",
      "     |      Return state information for pickling.\n",
      "     |  \n",
      "     |  __repr__(self, /)\n",
      "     |      Return repr(self).\n",
      "     |  \n",
      "     |  copy(...)\n",
      "     |      D.copy() -> a shallow copy of D.\n",
      "     |  \n",
      "     |  ----------------------------------------------------------------------\n",
      "     |  Data descriptors defined here:\n",
      "     |  \n",
      "     |  default_factory\n",
      "     |      Factory for default value called by __missing__().\n",
      "     |  \n",
      "     |  ----------------------------------------------------------------------\n",
      "     |  Methods inherited from builtins.dict:\n",
      "     |  \n",
      "     |  __contains__(self, key, /)\n",
      "     |      True if the dictionary has the specified key, else False.\n",
      "     |  \n",
      "     |  __delitem__(self, key, /)\n",
      "     |      Delete self[key].\n",
      "     |  \n",
      "     |  __eq__(self, value, /)\n",
      "     |      Return self==value.\n",
      "     |  \n",
      "     |  __ge__(self, value, /)\n",
      "     |      Return self>=value.\n",
      "     |  \n",
      "     |  __getitem__(...)\n",
      "     |      x.__getitem__(y) <==> x[y]\n",
      "     |  \n",
      "     |  __gt__(self, value, /)\n",
      "     |      Return self>value.\n",
      "     |  \n",
      "     |  __iter__(self, /)\n",
      "     |      Implement iter(self).\n",
      "     |  \n",
      "     |  __le__(self, value, /)\n",
      "     |      Return self<=value.\n",
      "     |  \n",
      "     |  __len__(self, /)\n",
      "     |      Return len(self).\n",
      "     |  \n",
      "     |  __lt__(self, value, /)\n",
      "     |      Return self<value.\n",
      "     |  \n",
      "     |  __ne__(self, value, /)\n",
      "     |      Return self!=value.\n",
      "     |  \n",
      "     |  __setitem__(self, key, value, /)\n",
      "     |      Set self[key] to value.\n",
      "     |  \n",
      "     |  __sizeof__(...)\n",
      "     |      D.__sizeof__() -> size of D in memory, in bytes\n",
      "     |  \n",
      "     |  clear(...)\n",
      "     |      D.clear() -> None.  Remove all items from D.\n",
      "     |  \n",
      "     |  get(self, key, default=None, /)\n",
      "     |      Return the value for key if key is in the dictionary, else default.\n",
      "     |  \n",
      "     |  items(...)\n",
      "     |      D.items() -> a set-like object providing a view on D's items\n",
      "     |  \n",
      "     |  keys(...)\n",
      "     |      D.keys() -> a set-like object providing a view on D's keys\n",
      "     |  \n",
      "     |  pop(...)\n",
      "     |      D.pop(k[,d]) -> v, remove specified key and return the corresponding value.\n",
      "     |      If key is not found, d is returned if given, otherwise KeyError is raised\n",
      "     |  \n",
      "     |  popitem(...)\n",
      "     |      D.popitem() -> (k, v), remove and return some (key, value) pair as a\n",
      "     |      2-tuple; but raise KeyError if D is empty.\n",
      "     |  \n",
      "     |  setdefault(self, key, default=None, /)\n",
      "     |      Insert key with a value of default if key is not in the dictionary.\n",
      "     |      \n",
      "     |      Return the value for key if key is in the dictionary, else default.\n",
      "     |  \n",
      "     |  update(...)\n",
      "     |      D.update([E, ]**F) -> None.  Update D from dict/iterable E and F.\n",
      "     |      If E is present and has a .keys() method, then does:  for k in E: D[k] = E[k]\n",
      "     |      If E is present and lacks a .keys() method, then does:  for k, v in E: D[k] = v\n",
      "     |      In either case, this is followed by: for k in F:  D[k] = F[k]\n",
      "     |  \n",
      "     |  values(...)\n",
      "     |      D.values() -> an object providing a view on D's values\n",
      "     |  \n",
      "     |  ----------------------------------------------------------------------\n",
      "     |  Class methods inherited from builtins.dict:\n",
      "     |  \n",
      "     |  fromkeys(iterable, value=None, /) from builtins.type\n",
      "     |      Create a new dictionary with keys from iterable and values set to value.\n",
      "     |  \n",
      "     |  ----------------------------------------------------------------------\n",
      "     |  Static methods inherited from builtins.dict:\n",
      "     |  \n",
      "     |  __new__(*args, **kwargs) from builtins.type\n",
      "     |      Create and return a new object.  See help(type) for accurate signature.\n",
      "     |  \n",
      "     |  ----------------------------------------------------------------------\n",
      "     |  Data and other attributes inherited from builtins.dict:\n",
      "     |  \n",
      "     |  __hash__ = None\n",
      "    \n",
      "    class deque(builtins.object)\n",
      "     |  deque([iterable[, maxlen]]) --> deque object\n",
      "     |  \n",
      "     |  A list-like sequence optimized for data accesses near its endpoints.\n",
      "     |  \n",
      "     |  Methods defined here:\n",
      "     |  \n",
      "     |  __add__(self, value, /)\n",
      "     |      Return self+value.\n",
      "     |  \n",
      "     |  __bool__(self, /)\n",
      "     |      self != 0\n",
      "     |  \n",
      "     |  __contains__(self, key, /)\n",
      "     |      Return key in self.\n",
      "     |  \n",
      "     |  __copy__(...)\n",
      "     |      Return a shallow copy of a deque.\n",
      "     |  \n",
      "     |  __delitem__(self, key, /)\n",
      "     |      Delete self[key].\n",
      "     |  \n",
      "     |  __eq__(self, value, /)\n",
      "     |      Return self==value.\n",
      "     |  \n",
      "     |  __ge__(self, value, /)\n",
      "     |      Return self>=value.\n",
      "     |  \n",
      "     |  __getattribute__(self, name, /)\n",
      "     |      Return getattr(self, name).\n",
      "     |  \n",
      "     |  __getitem__(self, key, /)\n",
      "     |      Return self[key].\n",
      "     |  \n",
      "     |  __gt__(self, value, /)\n",
      "     |      Return self>value.\n",
      "     |  \n",
      "     |  __iadd__(self, value, /)\n",
      "     |      Implement self+=value.\n",
      "     |  \n",
      "     |  __imul__(self, value, /)\n",
      "     |      Implement self*=value.\n",
      "     |  \n",
      "     |  __init__(self, /, *args, **kwargs)\n",
      "     |      Initialize self.  See help(type(self)) for accurate signature.\n",
      "     |  \n",
      "     |  __iter__(self, /)\n",
      "     |      Implement iter(self).\n",
      "     |  \n",
      "     |  __le__(self, value, /)\n",
      "     |      Return self<=value.\n",
      "     |  \n",
      "     |  __len__(self, /)\n",
      "     |      Return len(self).\n",
      "     |  \n",
      "     |  __lt__(self, value, /)\n",
      "     |      Return self<value.\n",
      "     |  \n",
      "     |  __mul__(self, value, /)\n",
      "     |      Return self*value.\n",
      "     |  \n",
      "     |  __ne__(self, value, /)\n",
      "     |      Return self!=value.\n",
      "     |  \n",
      "     |  __reduce__(...)\n",
      "     |      Return state information for pickling.\n",
      "     |  \n",
      "     |  __repr__(self, /)\n",
      "     |      Return repr(self).\n",
      "     |  \n",
      "     |  __reversed__(...)\n",
      "     |      D.__reversed__() -- return a reverse iterator over the deque\n",
      "     |  \n",
      "     |  __rmul__(self, value, /)\n",
      "     |      Return value*self.\n",
      "     |  \n",
      "     |  __setitem__(self, key, value, /)\n",
      "     |      Set self[key] to value.\n",
      "     |  \n",
      "     |  __sizeof__(...)\n",
      "     |      D.__sizeof__() -- size of D in memory, in bytes\n",
      "     |  \n",
      "     |  append(...)\n",
      "     |      Add an element to the right side of the deque.\n",
      "     |  \n",
      "     |  appendleft(...)\n",
      "     |      Add an element to the left side of the deque.\n",
      "     |  \n",
      "     |  clear(...)\n",
      "     |      Remove all elements from the deque.\n",
      "     |  \n",
      "     |  copy(...)\n",
      "     |      Return a shallow copy of a deque.\n",
      "     |  \n",
      "     |  count(...)\n",
      "     |      D.count(value) -> integer -- return number of occurrences of value\n",
      "     |  \n",
      "     |  extend(...)\n",
      "     |      Extend the right side of the deque with elements from the iterable\n",
      "     |  \n",
      "     |  extendleft(...)\n",
      "     |      Extend the left side of the deque with elements from the iterable\n",
      "     |  \n",
      "     |  index(...)\n",
      "     |      D.index(value, [start, [stop]]) -> integer -- return first index of value.\n",
      "     |      Raises ValueError if the value is not present.\n",
      "     |  \n",
      "     |  insert(...)\n",
      "     |      D.insert(index, object) -- insert object before index\n",
      "     |  \n",
      "     |  pop(...)\n",
      "     |      Remove and return the rightmost element.\n",
      "     |  \n",
      "     |  popleft(...)\n",
      "     |      Remove and return the leftmost element.\n",
      "     |  \n",
      "     |  remove(...)\n",
      "     |      D.remove(value) -- remove first occurrence of value.\n",
      "     |  \n",
      "     |  reverse(...)\n",
      "     |      D.reverse() -- reverse *IN PLACE*\n",
      "     |  \n",
      "     |  rotate(...)\n",
      "     |      Rotate the deque n steps to the right (default n=1).  If n is negative, rotates left.\n",
      "     |  \n",
      "     |  ----------------------------------------------------------------------\n",
      "     |  Static methods defined here:\n",
      "     |  \n",
      "     |  __new__(*args, **kwargs) from builtins.type\n",
      "     |      Create and return a new object.  See help(type) for accurate signature.\n",
      "     |  \n",
      "     |  ----------------------------------------------------------------------\n",
      "     |  Data descriptors defined here:\n",
      "     |  \n",
      "     |  maxlen\n",
      "     |      maximum size of a deque or None if unbounded\n",
      "     |  \n",
      "     |  ----------------------------------------------------------------------\n",
      "     |  Data and other attributes defined here:\n",
      "     |  \n",
      "     |  __hash__ = None\n",
      "\n",
      "FUNCTIONS\n",
      "    __getattr__(name)\n",
      "    \n",
      "    namedtuple(typename, field_names, *, rename=False, defaults=None, module=None)\n",
      "        Returns a new subclass of tuple with named fields.\n",
      "        \n",
      "        >>> Point = namedtuple('Point', ['x', 'y'])\n",
      "        >>> Point.__doc__                   # docstring for the new class\n",
      "        'Point(x, y)'\n",
      "        >>> p = Point(11, y=22)             # instantiate with positional args or keywords\n",
      "        >>> p[0] + p[1]                     # indexable like a plain tuple\n",
      "        33\n",
      "        >>> x, y = p                        # unpack like a regular tuple\n",
      "        >>> x, y\n",
      "        (11, 22)\n",
      "        >>> p.x + p.y                       # fields also accessible by name\n",
      "        33\n",
      "        >>> d = p._asdict()                 # convert to a dictionary\n",
      "        >>> d['x']\n",
      "        11\n",
      "        >>> Point(**d)                      # convert from a dictionary\n",
      "        Point(x=11, y=22)\n",
      "        >>> p._replace(x=100)               # _replace() is like str.replace() but targets named fields\n",
      "        Point(x=100, y=22)\n",
      "\n",
      "DATA\n",
      "    __all__ = ['deque', 'defaultdict', 'namedtuple', 'UserDict', 'UserList...\n",
      "\n",
      "FILE\n",
      "    c:\\users\\saphal\\anaconda3\\lib\\collections\\__init__.py\n",
      "\n",
      "\n"
     ]
    }
   ],
   "source": [
    "help(col)"
   ]
  },
  {
   "cell_type": "code",
   "execution_count": 58,
   "metadata": {},
   "outputs": [],
   "source": [
    "import os"
   ]
  },
  {
   "cell_type": "code",
   "execution_count": 60,
   "metadata": {},
   "outputs": [
    {
     "data": {
      "text/plain": [
       "['DirEntry',\n",
       " 'F_OK',\n",
       " 'MutableMapping',\n",
       " 'O_APPEND',\n",
       " 'O_BINARY',\n",
       " 'O_CREAT',\n",
       " 'O_EXCL',\n",
       " 'O_NOINHERIT',\n",
       " 'O_RANDOM',\n",
       " 'O_RDONLY',\n",
       " 'O_RDWR',\n",
       " 'O_SEQUENTIAL',\n",
       " 'O_SHORT_LIVED',\n",
       " 'O_TEMPORARY',\n",
       " 'O_TEXT',\n",
       " 'O_TRUNC',\n",
       " 'O_WRONLY',\n",
       " 'P_DETACH',\n",
       " 'P_NOWAIT',\n",
       " 'P_NOWAITO',\n",
       " 'P_OVERLAY',\n",
       " 'P_WAIT',\n",
       " 'PathLike',\n",
       " 'R_OK',\n",
       " 'SEEK_CUR',\n",
       " 'SEEK_END',\n",
       " 'SEEK_SET',\n",
       " 'TMP_MAX',\n",
       " 'W_OK',\n",
       " 'X_OK',\n",
       " '_Environ',\n",
       " '__all__',\n",
       " '__builtins__',\n",
       " '__cached__',\n",
       " '__doc__',\n",
       " '__file__',\n",
       " '__loader__',\n",
       " '__name__',\n",
       " '__package__',\n",
       " '__spec__',\n",
       " '_execvpe',\n",
       " '_exists',\n",
       " '_exit',\n",
       " '_fspath',\n",
       " '_get_exports_list',\n",
       " '_putenv',\n",
       " '_unsetenv',\n",
       " '_wrap_close',\n",
       " 'abc',\n",
       " 'abort',\n",
       " 'access',\n",
       " 'altsep',\n",
       " 'chdir',\n",
       " 'chmod',\n",
       " 'close',\n",
       " 'closerange',\n",
       " 'cpu_count',\n",
       " 'curdir',\n",
       " 'defpath',\n",
       " 'device_encoding',\n",
       " 'devnull',\n",
       " 'dup',\n",
       " 'dup2',\n",
       " 'environ',\n",
       " 'error',\n",
       " 'execl',\n",
       " 'execle',\n",
       " 'execlp',\n",
       " 'execlpe',\n",
       " 'execv',\n",
       " 'execve',\n",
       " 'execvp',\n",
       " 'execvpe',\n",
       " 'extsep',\n",
       " 'fdopen',\n",
       " 'fsdecode',\n",
       " 'fsencode',\n",
       " 'fspath',\n",
       " 'fstat',\n",
       " 'fsync',\n",
       " 'ftruncate',\n",
       " 'get_exec_path',\n",
       " 'get_handle_inheritable',\n",
       " 'get_inheritable',\n",
       " 'get_terminal_size',\n",
       " 'getcwd',\n",
       " 'getcwdb',\n",
       " 'getenv',\n",
       " 'getlogin',\n",
       " 'getpid',\n",
       " 'getppid',\n",
       " 'isatty',\n",
       " 'kill',\n",
       " 'linesep',\n",
       " 'link',\n",
       " 'listdir',\n",
       " 'lseek',\n",
       " 'lstat',\n",
       " 'makedirs',\n",
       " 'mkdir',\n",
       " 'name',\n",
       " 'open',\n",
       " 'pardir',\n",
       " 'path',\n",
       " 'pathsep',\n",
       " 'pipe',\n",
       " 'popen',\n",
       " 'putenv',\n",
       " 'read',\n",
       " 'readlink',\n",
       " 'remove',\n",
       " 'removedirs',\n",
       " 'rename',\n",
       " 'renames',\n",
       " 'replace',\n",
       " 'rmdir',\n",
       " 'scandir',\n",
       " 'sep',\n",
       " 'set_handle_inheritable',\n",
       " 'set_inheritable',\n",
       " 'spawnl',\n",
       " 'spawnle',\n",
       " 'spawnv',\n",
       " 'spawnve',\n",
       " 'st',\n",
       " 'startfile',\n",
       " 'stat',\n",
       " 'stat_result',\n",
       " 'statvfs_result',\n",
       " 'strerror',\n",
       " 'supports_bytes_environ',\n",
       " 'supports_dir_fd',\n",
       " 'supports_effective_ids',\n",
       " 'supports_fd',\n",
       " 'supports_follow_symlinks',\n",
       " 'symlink',\n",
       " 'sys',\n",
       " 'system',\n",
       " 'terminal_size',\n",
       " 'times',\n",
       " 'times_result',\n",
       " 'truncate',\n",
       " 'umask',\n",
       " 'uname_result',\n",
       " 'unlink',\n",
       " 'urandom',\n",
       " 'utime',\n",
       " 'waitpid',\n",
       " 'walk',\n",
       " 'write']"
      ]
     },
     "execution_count": 60,
     "metadata": {},
     "output_type": "execute_result"
    }
   ],
   "source": [
    "dir(os)"
   ]
  },
  {
   "cell_type": "markdown",
   "metadata": {},
   "source": [
    "os.mkdir('test_os')"
   ]
  },
  {
   "cell_type": "code",
   "execution_count": 61,
   "metadata": {},
   "outputs": [
    {
     "name": "stdout",
     "output_type": "stream",
     "text": [
      " Volume in drive C has no label.\n",
      " Volume Serial Number is B8BC-9093\n",
      "\n",
      " Directory of C:\\Users\\SAPHAL\n",
      "\n",
      "04/14/2019  06:31 PM    <DIR>          .\n",
      "04/14/2019  06:31 PM    <DIR>          ..\n",
      "04/04/2019  06:00 PM    <DIR>          .anaconda\n",
      "04/05/2019  04:42 AM    <DIR>          .android\n",
      "04/14/2019  06:31 PM    <DIR>          .conda\n",
      "04/14/2019  05:55 PM                43 .condarc\n",
      "04/14/2019  06:02 PM    <DIR>          .ipynb_checkpoints\n",
      "04/04/2019  12:39 AM    <DIR>          .ipython\n",
      "04/04/2019  06:02 PM    <DIR>          .jupyter\n",
      "04/04/2019  12:40 AM    <DIR>          .matplotlib\n",
      "04/04/2019  03:03 AM    <DIR>          .Origin\n",
      "04/04/2019  03:03 AM    <DIR>          .QtWebEngineProcess\n",
      "04/04/2019  12:59 AM    <DIR>          .spyder-py3\n",
      "04/11/2019  06:03 PM    <DIR>          3D Objects\n",
      "04/03/2019  10:17 PM    <DIR>          Anaconda3\n",
      "06/02/2010  05:21 AM         1,347,354 Apr2005_d3dx9_25_x64.cab\n",
      "06/02/2010  05:21 AM         1,078,962 Apr2005_d3dx9_25_x86.cab\n",
      "06/02/2010  05:21 AM         1,397,830 Apr2006_d3dx9_30_x64.cab\n",
      "06/02/2010  05:21 AM         1,115,221 Apr2006_d3dx9_30_x86.cab\n",
      "06/02/2010  05:21 AM           916,430 Apr2006_MDX1_x86.cab\n",
      "06/02/2010  05:21 AM         4,162,630 Apr2006_MDX1_x86_Archive.cab\n",
      "06/02/2010  05:21 AM           179,133 Apr2006_XACT_x64.cab\n",
      "06/02/2010  05:21 AM           133,103 Apr2006_XACT_x86.cab\n",
      "06/02/2010  05:21 AM            87,101 Apr2006_xinput_x64.cab\n",
      "06/02/2010  05:21 AM            46,010 Apr2006_xinput_x86.cab\n",
      "06/02/2010  05:21 AM           698,612 APR2007_d3dx10_33_x64.cab\n",
      "06/02/2010  05:21 AM           695,865 APR2007_d3dx10_33_x86.cab\n",
      "06/02/2010  05:21 AM         1,607,358 APR2007_d3dx9_33_x64.cab\n",
      "06/02/2010  05:21 AM         1,606,039 APR2007_d3dx9_33_x86.cab\n",
      "06/02/2010  05:21 AM           195,766 APR2007_XACT_x64.cab\n",
      "06/02/2010  05:21 AM           151,225 APR2007_XACT_x86.cab\n",
      "06/02/2010  05:21 AM            96,817 APR2007_xinput_x64.cab\n",
      "06/02/2010  05:21 AM            53,302 APR2007_xinput_x86.cab\n",
      "06/02/2010  05:21 AM         1,350,542 Aug2005_d3dx9_27_x64.cab\n",
      "06/02/2010  05:21 AM         1,077,644 Aug2005_d3dx9_27_x86.cab\n",
      "06/02/2010  05:21 AM           182,903 AUG2006_XACT_x64.cab\n",
      "06/02/2010  05:21 AM           137,235 AUG2006_XACT_x86.cab\n",
      "06/02/2010  05:21 AM            87,142 AUG2006_xinput_x64.cab\n",
      "06/02/2010  05:21 AM            46,058 AUG2006_xinput_x86.cab\n",
      "06/02/2010  05:21 AM           852,286 AUG2007_d3dx10_35_x64.cab\n",
      "06/02/2010  05:21 AM           796,867 AUG2007_d3dx10_35_x86.cab\n",
      "06/02/2010  05:21 AM         1,800,160 AUG2007_d3dx9_35_x64.cab\n",
      "06/02/2010  05:21 AM         1,708,152 AUG2007_d3dx9_35_x86.cab\n",
      "06/02/2010  05:21 AM           198,096 AUG2007_XACT_x64.cab\n",
      "06/02/2010  05:21 AM           153,012 AUG2007_XACT_x86.cab\n",
      "06/02/2010  05:21 AM           867,612 Aug2008_d3dx10_39_x64.cab\n",
      "06/02/2010  05:21 AM           849,167 Aug2008_d3dx10_39_x86.cab\n",
      "06/02/2010  05:21 AM         1,794,084 Aug2008_d3dx9_39_x64.cab\n",
      "06/02/2010  05:21 AM         1,464,672 Aug2008_d3dx9_39_x86.cab\n",
      "06/02/2010  05:21 AM           121,772 Aug2008_XACT_x64.cab\n",
      "06/02/2010  05:21 AM            92,996 Aug2008_XACT_x86.cab\n",
      "06/02/2010  05:21 AM           271,412 Aug2008_XAudio_x64.cab\n",
      "06/02/2010  05:21 AM           271,038 Aug2008_XAudio_x86.cab\n",
      "06/02/2010  05:21 AM           919,044 Aug2009_D3DCompiler_42_x64.cab\n",
      "06/02/2010  05:21 AM           900,598 Aug2009_D3DCompiler_42_x86.cab\n",
      "06/02/2010  05:21 AM         3,112,111 Aug2009_d3dcsx_42_x64.cab\n",
      "06/02/2010  05:21 AM         3,319,740 Aug2009_d3dcsx_42_x86.cab\n",
      "06/02/2010  05:21 AM           232,635 Aug2009_d3dx10_42_x64.cab\n",
      "06/02/2010  05:21 AM           192,131 Aug2009_d3dx10_42_x86.cab\n",
      "06/02/2010  05:21 AM           136,301 Aug2009_d3dx11_42_x64.cab\n",
      "06/02/2010  05:21 AM           105,044 Aug2009_d3dx11_42_x86.cab\n",
      "06/02/2010  05:21 AM           930,116 Aug2009_d3dx9_42_x64.cab\n",
      "06/02/2010  05:21 AM           728,456 Aug2009_d3dx9_42_x86.cab\n",
      "06/02/2010  05:22 AM           122,408 Aug2009_XACT_x64.cab\n",
      "06/02/2010  05:22 AM            93,106 Aug2009_XACT_x86.cab\n",
      "06/02/2010  05:22 AM           273,264 Aug2009_XAudio_x64.cab\n",
      "06/02/2010  05:22 AM           272,642 Aug2009_XAudio_x86.cab\n",
      "04/11/2019  06:03 PM    <DIR>          Contacts\n",
      "06/02/2010  05:22 AM         1,357,976 Dec2005_d3dx9_28_x64.cab\n",
      "06/02/2010  05:22 AM         1,079,456 Dec2005_d3dx9_28_x86.cab\n",
      "06/02/2010  05:22 AM           212,807 DEC2006_d3dx10_00_x64.cab\n",
      "06/02/2010  05:22 AM           191,720 DEC2006_d3dx10_00_x86.cab\n",
      "06/02/2010  05:22 AM         1,571,154 DEC2006_d3dx9_32_x64.cab\n",
      "06/02/2010  05:22 AM         1,574,376 DEC2006_d3dx9_32_x86.cab\n",
      "06/02/2010  05:22 AM           192,475 DEC2006_XACT_x64.cab\n",
      "06/02/2010  05:22 AM           145,599 DEC2006_XACT_x86.cab\n",
      "04/11/2019  06:05 PM    <DIR>          Desktop\n",
      "04/14/2019  06:31 PM            77,140 dictionary.ipynb\n",
      "04/14/2019  06:02 PM               555 dictionay.ipynb\n",
      "04/11/2019  06:03 PM    <DIR>          Documents\n",
      "04/11/2019  06:56 PM    <DIR>          Downloads\n",
      "03/30/2011  11:40 AM            95,576 DSETUP.dll\n",
      "03/30/2011  11:40 AM         1,566,040 dsetup32.dll\n",
      "03/30/2011  11:40 AM            44,624 dxdllreg_x86.cab\n",
      "03/30/2011  11:40 AM           517,976 DXSETUP.exe\n",
      "03/30/2011  11:40 AM            97,152 dxupdate.cab\n",
      "04/11/2019  06:03 PM    <DIR>          Favorites\n",
      "06/02/2010  05:22 AM         1,247,499 Feb2005_d3dx9_24_x64.cab\n",
      "06/02/2010  05:22 AM         1,013,225 Feb2005_d3dx9_24_x86.cab\n",
      "06/02/2010  05:22 AM         1,362,796 Feb2006_d3dx9_29_x64.cab\n",
      "06/02/2010  05:22 AM         1,084,720 Feb2006_d3dx9_29_x86.cab\n",
      "06/02/2010  05:22 AM           178,359 Feb2006_XACT_x64.cab\n",
      "06/02/2010  05:22 AM           132,409 Feb2006_XACT_x86.cab\n",
      "06/02/2010  05:22 AM           194,675 FEB2007_XACT_x64.cab\n",
      "06/02/2010  05:22 AM           147,983 FEB2007_XACT_x86.cab\n",
      "06/02/2010  05:22 AM            54,678 Feb2010_X3DAudio_x64.cab\n",
      "06/02/2010  05:22 AM            20,713 Feb2010_X3DAudio_x86.cab\n",
      "06/02/2010  05:22 AM           122,446 Feb2010_XACT_x64.cab\n",
      "06/02/2010  05:22 AM            93,180 Feb2010_XACT_x86.cab\n",
      "06/02/2010  05:22 AM           276,960 Feb2010_XAudio_x64.cab\n",
      "06/02/2010  05:22 AM           277,191 Feb2010_XAudio_x86.cab\n",
      "06/02/2010  05:22 AM         1,336,002 Jun2005_d3dx9_26_x64.cab\n",
      "06/02/2010  05:22 AM         1,064,925 Jun2005_d3dx9_26_x86.cab\n",
      "06/02/2010  05:22 AM           180,785 JUN2006_XACT_x64.cab\n",
      "06/02/2010  05:22 AM           133,671 JUN2006_XACT_x86.cab\n",
      "06/02/2010  05:22 AM           699,044 JUN2007_d3dx10_34_x64.cab\n",
      "06/02/2010  05:22 AM           698,472 JUN2007_d3dx10_34_x86.cab\n",
      "06/02/2010  05:22 AM         1,607,774 JUN2007_d3dx9_34_x64.cab\n",
      "06/02/2010  05:22 AM         1,607,286 JUN2007_d3dx9_34_x86.cab\n",
      "06/02/2010  05:22 AM           197,122 JUN2007_XACT_x64.cab\n",
      "06/02/2010  05:22 AM           152,909 JUN2007_XACT_x86.cab\n",
      "06/02/2010  05:22 AM           867,828 JUN2008_d3dx10_38_x64.cab\n",
      "06/02/2010  05:22 AM           849,919 JUN2008_d3dx10_38_x86.cab\n",
      "06/02/2010  05:22 AM         1,792,608 JUN2008_d3dx9_38_x64.cab\n",
      "06/02/2010  05:22 AM         1,463,878 JUN2008_d3dx9_38_x86.cab\n",
      "06/02/2010  05:22 AM            55,154 JUN2008_X3DAudio_x64.cab\n",
      "06/02/2010  05:22 AM            21,905 JUN2008_X3DAudio_x86.cab\n",
      "06/02/2010  05:22 AM           121,054 JUN2008_XACT_x64.cab\n",
      "06/02/2010  05:22 AM            93,128 JUN2008_XACT_x86.cab\n",
      "06/02/2010  05:22 AM           269,628 JUN2008_XAudio_x64.cab\n",
      "06/02/2010  05:22 AM           269,024 JUN2008_XAudio_x86.cab\n",
      "06/02/2010  05:22 AM           944,460 Jun2010_D3DCompiler_43_x64.cab\n",
      "06/02/2010  05:22 AM           931,471 Jun2010_D3DCompiler_43_x86.cab\n",
      "06/02/2010  05:22 AM           752,783 Jun2010_d3dcsx_43_x64.cab\n",
      "06/02/2010  05:22 AM           762,188 Jun2010_d3dcsx_43_x86.cab\n",
      "06/02/2010  05:22 AM           235,955 Jun2010_d3dx10_43_x64.cab\n",
      "06/02/2010  05:22 AM           197,283 Jun2010_d3dx10_43_x86.cab\n",
      "06/02/2010  05:22 AM           138,205 Jun2010_d3dx11_43_x64.cab\n",
      "06/02/2010  05:22 AM           109,445 Jun2010_d3dx11_43_x86.cab\n",
      "06/02/2010  05:22 AM           937,246 Jun2010_d3dx9_43_x64.cab\n",
      "06/02/2010  05:22 AM           768,036 Jun2010_d3dx9_43_x86.cab\n",
      "06/02/2010  05:22 AM           124,596 Jun2010_XACT_x64.cab\n",
      "06/02/2010  05:22 AM            93,686 Jun2010_XACT_x86.cab\n",
      "06/02/2010  05:22 AM           277,338 Jun2010_XAudio_x64.cab\n",
      "06/02/2010  05:22 AM           278,060 Jun2010_XAudio_x86.cab\n",
      "04/11/2019  06:03 PM    <DIR>          Links\n",
      "04/10/2019  07:11 PM             2,939 looping and control function.ipynb\n",
      "06/02/2010  05:22 AM           844,884 Mar2008_d3dx10_37_x64.cab\n",
      "06/02/2010  05:22 AM           818,260 Mar2008_d3dx10_37_x86.cab\n",
      "06/02/2010  05:22 AM         1,769,862 Mar2008_d3dx9_37_x64.cab\n",
      "06/02/2010  05:22 AM         1,443,282 Mar2008_d3dx9_37_x86.cab\n",
      "06/02/2010  05:22 AM            55,058 Mar2008_X3DAudio_x64.cab\n",
      "06/02/2010  05:22 AM            21,867 Mar2008_X3DAudio_x86.cab\n",
      "06/02/2010  05:22 AM           122,336 Mar2008_XACT_x64.cab\n",
      "06/02/2010  05:22 AM            93,734 Mar2008_XACT_x86.cab\n",
      "06/02/2010  05:22 AM           251,194 Mar2008_XAudio_x64.cab\n",
      "06/02/2010  05:22 AM           226,250 Mar2008_XAudio_x86.cab\n",
      "06/02/2010  05:22 AM         1,067,160 Mar2009_d3dx10_41_x64.cab\n",
      "06/02/2010  05:22 AM         1,040,745 Mar2009_d3dx10_41_x86.cab\n",
      "06/02/2010  05:22 AM         1,973,702 Mar2009_d3dx9_41_x64.cab\n",
      "06/02/2010  05:22 AM         1,612,446 Mar2009_d3dx9_41_x86.cab\n",
      "06/02/2010  05:22 AM            54,600 Mar2009_X3DAudio_x64.cab\n",
      "06/02/2010  05:22 AM            21,298 Mar2009_X3DAudio_x86.cab\n",
      "06/02/2010  05:22 AM           121,506 Mar2009_XACT_x64.cab\n",
      "06/02/2010  05:22 AM            92,740 Mar2009_XACT_x86.cab\n",
      "06/02/2010  05:22 AM           275,044 Mar2009_XAudio_x64.cab\n",
      "06/02/2010  05:22 AM           273,018 Mar2009_XAudio_x86.cab\n",
      "04/11/2019  06:03 PM    <DIR>          Music\n",
      "06/02/2010  05:22 AM           864,600 Nov2007_d3dx10_36_x64.cab\n",
      "06/02/2010  05:22 AM           803,884 Nov2007_d3dx10_36_x86.cab\n",
      "06/02/2010  05:22 AM         1,802,058 Nov2007_d3dx9_36_x64.cab\n",
      "06/02/2010  05:22 AM         1,709,360 Nov2007_d3dx9_36_x86.cab\n",
      "06/02/2010  05:22 AM            46,144 NOV2007_X3DAudio_x64.cab\n",
      "06/02/2010  05:22 AM            18,496 NOV2007_X3DAudio_x86.cab\n",
      "06/02/2010  05:22 AM           196,762 NOV2007_XACT_x64.cab\n",
      "06/02/2010  05:22 AM           148,264 NOV2007_XACT_x86.cab\n",
      "06/02/2010  05:22 AM         1,906,878 Nov2008_d3dx9_40_x64.cab\n",
      "09/24/2017  08:53 PM           320,667 Nov2008_d3dx9_40_x86.cab\n",
      "04/03/2019  08:39 PM    <DIR>          OneDrive\n",
      "04/12/2019  07:33 AM    <DIR>          Pictures\n",
      "04/06/2019  07:17 PM    <DIR>          python class\n",
      "04/07/2019  06:48 PM            13,585 python.ipynb\n",
      "04/09/2019  10:01 AM             6,876 Range function.ipynb\n",
      "04/11/2019  06:03 PM    <DIR>          Saved Games\n",
      "04/11/2019  06:03 PM    <DIR>          Searches\n",
      "04/11/2019  07:10 PM            22,273 sets .ipynb\n",
      "04/11/2019  07:00 PM            20,180 sets -Copy1.ipynb\n",
      "03/31/2017  10:06 PM    <DIR>          Tracing\n",
      "04/07/2019  07:16 PM             7,077 tuple.ipynb\n",
      "04/07/2019  06:49 PM             8,558 unpacking, indexing,slicing,striding,striding and stopping.ipynb\n",
      "04/04/2019  06:04 PM    <DIR>          Untitled Folder 1\n",
      "10/12/2017  05:08 AM    <DIR>          Videos\n",
      "             153 File(s)     96,071,162 bytes\n",
      "              29 Dir(s)   6,067,298,304 bytes free\n"
     ]
    }
   ],
   "source": [
    "ls"
   ]
  },
  {
   "cell_type": "code",
   "execution_count": 62,
   "metadata": {},
   "outputs": [
    {
     "data": {
      "text/plain": [
       "'C:\\\\Users\\\\SAPHAL'"
      ]
     },
     "execution_count": 62,
     "metadata": {},
     "output_type": "execute_result"
    }
   ],
   "source": [
    "pwd"
   ]
  },
  {
   "cell_type": "code",
   "execution_count": 66,
   "metadata": {},
   "outputs": [],
   "source": [
    "s='i am python'"
   ]
  },
  {
   "cell_type": "code",
   "execution_count": 67,
   "metadata": {},
   "outputs": [
    {
     "data": {
      "text/plain": [
       "'i am python'"
      ]
     },
     "execution_count": 67,
     "metadata": {},
     "output_type": "execute_result"
    }
   ],
   "source": [
    "s"
   ]
  },
  {
   "cell_type": "code",
   "execution_count": 68,
   "metadata": {},
   "outputs": [
    {
     "data": {
      "text/plain": [
       "['i', 'am', 'python']"
      ]
     },
     "execution_count": 68,
     "metadata": {},
     "output_type": "execute_result"
    }
   ],
   "source": [
    "s.split()"
   ]
  },
  {
   "cell_type": "code",
   "execution_count": 69,
   "metadata": {},
   "outputs": [],
   "source": [
    "s='i-am-python'"
   ]
  },
  {
   "cell_type": "code",
   "execution_count": 70,
   "metadata": {},
   "outputs": [
    {
     "data": {
      "text/plain": [
       "'i-am-python'"
      ]
     },
     "execution_count": 70,
     "metadata": {},
     "output_type": "execute_result"
    }
   ],
   "source": [
    "s"
   ]
  },
  {
   "cell_type": "code",
   "execution_count": 71,
   "metadata": {},
   "outputs": [
    {
     "data": {
      "text/plain": [
       "['i-am-python']"
      ]
     },
     "execution_count": 71,
     "metadata": {},
     "output_type": "execute_result"
    }
   ],
   "source": [
    "s.split()"
   ]
  },
  {
   "cell_type": "code",
   "execution_count": 72,
   "metadata": {},
   "outputs": [
    {
     "data": {
      "text/plain": [
       "['i', 'am', 'python']"
      ]
     },
     "execution_count": 72,
     "metadata": {},
     "output_type": "execute_result"
    }
   ],
   "source": [
    "s.split('-')"
   ]
  },
  {
   "cell_type": "code",
   "execution_count": 73,
   "metadata": {},
   "outputs": [],
   "source": [
    "p='i am python'"
   ]
  },
  {
   "cell_type": "code",
   "execution_count": 74,
   "metadata": {},
   "outputs": [
    {
     "data": {
      "text/plain": [
       "['i', 'am', 'python']"
      ]
     },
     "execution_count": 74,
     "metadata": {},
     "output_type": "execute_result"
    }
   ],
   "source": [
    "p.split()"
   ]
  },
  {
   "cell_type": "code",
   "execution_count": 75,
   "metadata": {},
   "outputs": [
    {
     "data": {
      "text/plain": [
       "['i', 'am', 'python']"
      ]
     },
     "execution_count": 75,
     "metadata": {},
     "output_type": "execute_result"
    }
   ],
   "source": [
    "p.split(' ')"
   ]
  },
  {
   "cell_type": "code",
   "execution_count": 76,
   "metadata": {},
   "outputs": [
    {
     "data": {
      "text/plain": [
       "True"
      ]
     },
     "execution_count": 76,
     "metadata": {},
     "output_type": "execute_result"
    }
   ],
   "source": [
    "'am'  in s"
   ]
  },
  {
   "cell_type": "code",
   "execution_count": 77,
   "metadata": {},
   "outputs": [
    {
     "data": {
      "text/plain": [
       "'i-Am-python'"
      ]
     },
     "execution_count": 77,
     "metadata": {},
     "output_type": "execute_result"
    }
   ],
   "source": [
    "s. replace('am','Am')"
   ]
  },
  {
   "cell_type": "code",
   "execution_count": 78,
   "metadata": {},
   "outputs": [
    {
     "data": {
      "text/plain": [
       "'i am python'"
      ]
     },
     "execution_count": 78,
     "metadata": {},
     "output_type": "execute_result"
    }
   ],
   "source": [
    "s.replace('-',' ')"
   ]
  },
  {
   "cell_type": "code",
   "execution_count": 79,
   "metadata": {},
   "outputs": [
    {
     "data": {
      "text/plain": [
       "'i-am-python'"
      ]
     },
     "execution_count": 79,
     "metadata": {},
     "output_type": "execute_result"
    }
   ],
   "source": [
    "s"
   ]
  },
  {
   "cell_type": "code",
   "execution_count": 80,
   "metadata": {},
   "outputs": [
    {
     "data": {
      "text/plain": [
       "'m'"
      ]
     },
     "execution_count": 80,
     "metadata": {},
     "output_type": "execute_result"
    }
   ],
   "source": [
    "s[3]"
   ]
  },
  {
   "cell_type": "raw",
   "metadata": {},
   "source": [
    "rename and pictures folders "
   ]
  },
  {
   "cell_type": "code",
   "execution_count": 86,
   "metadata": {},
   "outputs": [],
   "source": [
    "os.chdir('C://Users/SAPHAL/Desktop/hd')"
   ]
  },
  {
   "cell_type": "code",
   "execution_count": 87,
   "metadata": {},
   "outputs": [
    {
     "name": "stdout",
     "output_type": "stream",
     "text": [
      " Volume in drive C has no label.\n",
      " Volume Serial Number is B8BC-9093\n",
      "\n",
      " Directory of C:\\Users\\SAPHAL\\Desktop\\hd\n",
      "\n",
      "04/14/2019  06:45 PM    <DIR>          .\n",
      "04/14/2019  06:45 PM    <DIR>          ..\n",
      "04/14/2019  06:42 PM           368,794 Best-image-CS-GO-wallpaper-HD_hu544b2a1d4ea7a46ae220450909c6a3d7_1876063_1920x1080_resize_q75_box.jpg\n",
      "04/14/2019  06:45 PM           149,310 Free-Best-Wallpaper.jpg\n",
      "04/07/2019  09:44 AM            38,069 JWDM3227.JPG\n",
      "04/07/2019  09:44 AM         1,067,086 LXZQ5764.JPG\n",
      "               4 File(s)      1,623,259 bytes\n",
      "               2 Dir(s)   6,026,706,944 bytes free\n"
     ]
    }
   ],
   "source": [
    "ls"
   ]
  },
  {
   "cell_type": "code",
   "execution_count": 88,
   "metadata": {},
   "outputs": [
    {
     "data": {
      "text/plain": [
       "['Best-image-CS-GO-wallpaper-HD_hu544b2a1d4ea7a46ae220450909c6a3d7_1876063_1920x1080_resize_q75_box.jpg',\n",
       " 'Free-Best-Wallpaper.jpg',\n",
       " 'JWDM3227.JPG',\n",
       " 'LXZQ5764.JPG']"
      ]
     },
     "execution_count": 88,
     "metadata": {},
     "output_type": "execute_result"
    }
   ],
   "source": [
    "os.listdir()"
   ]
  },
  {
   "cell_type": "code",
   "execution_count": 96,
   "metadata": {},
   "outputs": [],
   "source": [
    "for i,j in enumerate(os.listdir()):\n",
    "    ext=j.split(\".\")[-1]\n",
    "    os.rename(j,\"FROSTY_\"+ str(i)+\".\"+ext)"
   ]
  },
  {
   "cell_type": "code",
   "execution_count": 1,
   "metadata": {},
   "outputs": [],
   "source": [
    "def square(x):\n",
    "    return x**2"
   ]
  },
  {
   "cell_type": "code",
   "execution_count": 2,
   "metadata": {},
   "outputs": [
    {
     "data": {
      "text/plain": [
       "81"
      ]
     },
     "execution_count": 2,
     "metadata": {},
     "output_type": "execute_result"
    }
   ],
   "source": [
    "square(9)"
   ]
  },
  {
   "cell_type": "raw",
   "metadata": {},
   "source": [
    "function is a block of code which is used to perform specific task(def)"
   ]
  },
  {
   "cell_type": "code",
   "execution_count": 3,
   "metadata": {},
   "outputs": [],
   "source": [
    "alist=[2,3,4,5,6]"
   ]
  },
  {
   "cell_type": "code",
   "execution_count": 5,
   "metadata": {},
   "outputs": [],
   "source": [
    "res=map(square,alist)"
   ]
  },
  {
   "cell_type": "code",
   "execution_count": 7,
   "metadata": {},
   "outputs": [
    {
     "name": "stdout",
     "output_type": "stream",
     "text": [
      "4\n",
      "9\n",
      "16\n",
      "25\n",
      "36\n"
     ]
    }
   ],
   "source": [
    "for i in res:\n",
    "    print(i)"
   ]
  },
  {
   "cell_type": "code",
   "execution_count": 8,
   "metadata": {},
   "outputs": [
    {
     "data": {
      "text/plain": [
       "[4, 9, 16, 25, 36]"
      ]
     },
     "execution_count": 8,
     "metadata": {},
     "output_type": "execute_result"
    }
   ],
   "source": [
    "list(map(square,alist))"
   ]
  },
  {
   "cell_type": "code",
   "execution_count": 9,
   "metadata": {},
   "outputs": [
    {
     "data": {
      "text/plain": [
       "[0, 1, 4, 9, 16, 25, 36, 49, 64, 81]"
      ]
     },
     "execution_count": 9,
     "metadata": {},
     "output_type": "execute_result"
    }
   ],
   "source": [
    "list(map(square,range(10)))"
   ]
  },
  {
   "cell_type": "code",
   "execution_count": 12,
   "metadata": {},
   "outputs": [],
   "source": [
    "def odd(x):\n",
    "    return x%2==1"
   ]
  },
  {
   "cell_type": "code",
   "execution_count": 13,
   "metadata": {},
   "outputs": [
    {
     "data": {
      "text/plain": [
       "True"
      ]
     },
     "execution_count": 13,
     "metadata": {},
     "output_type": "execute_result"
    }
   ],
   "source": [
    "odd(9)"
   ]
  },
  {
   "cell_type": "code",
   "execution_count": 14,
   "metadata": {},
   "outputs": [
    {
     "data": {
      "text/plain": [
       "False"
      ]
     },
     "execution_count": 14,
     "metadata": {},
     "output_type": "execute_result"
    }
   ],
   "source": [
    "odd(8)"
   ]
  },
  {
   "cell_type": "code",
   "execution_count": 15,
   "metadata": {},
   "outputs": [
    {
     "data": {
      "text/plain": [
       "<filter at 0x1a5fc165cc0>"
      ]
     },
     "execution_count": 15,
     "metadata": {},
     "output_type": "execute_result"
    }
   ],
   "source": [
    "filter(odd,range(10))"
   ]
  },
  {
   "cell_type": "code",
   "execution_count": 17,
   "metadata": {},
   "outputs": [
    {
     "data": {
      "text/plain": [
       "[1, 3, 5, 7, 9]"
      ]
     },
     "execution_count": 17,
     "metadata": {},
     "output_type": "execute_result"
    }
   ],
   "source": [
    "list(filter(odd,range(10)))"
   ]
  },
  {
   "cell_type": "code",
   "execution_count": 18,
   "metadata": {},
   "outputs": [
    {
     "name": "stdout",
     "output_type": "stream",
     "text": [
      "1\n",
      "3\n",
      "5\n",
      "7\n",
      "9\n"
     ]
    }
   ],
   "source": [
    "for i in filter(odd,range(10)):\n",
    "    print(i)"
   ]
  },
  {
   "cell_type": "code",
   "execution_count": 21,
   "metadata": {},
   "outputs": [],
   "source": [
    "x=lambda x:x**2"
   ]
  },
  {
   "cell_type": "code",
   "execution_count": 22,
   "metadata": {},
   "outputs": [
    {
     "data": {
      "text/plain": [
       "100"
      ]
     },
     "execution_count": 22,
     "metadata": {},
     "output_type": "execute_result"
    }
   ],
   "source": [
    "x(10)"
   ]
  },
  {
   "cell_type": "code",
   "execution_count": 23,
   "metadata": {},
   "outputs": [
    {
     "data": {
      "text/plain": [
       "400"
      ]
     },
     "execution_count": 23,
     "metadata": {},
     "output_type": "execute_result"
    }
   ],
   "source": [
    "x(20)"
   ]
  },
  {
   "cell_type": "code",
   "execution_count": 24,
   "metadata": {},
   "outputs": [
    {
     "data": {
      "text/plain": [
       "[0, 1, 4, 9, 16, 25, 36, 49, 64, 81]"
      ]
     },
     "execution_count": 24,
     "metadata": {},
     "output_type": "execute_result"
    }
   ],
   "source": [
    "list(map(lambda x:x**2,range(10)))"
   ]
  },
  {
   "cell_type": "code",
   "execution_count": 26,
   "metadata": {},
   "outputs": [
    {
     "data": {
      "text/plain": [
       "[1, 3, 5, 7, 9]"
      ]
     },
     "execution_count": 26,
     "metadata": {},
     "output_type": "execute_result"
    }
   ],
   "source": [
    "list(filter(lambda x:x%2==1,range(10)))"
   ]
  },
  {
   "cell_type": "code",
   "execution_count": 27,
   "metadata": {},
   "outputs": [
    {
     "data": {
      "text/plain": [
       "map"
      ]
     },
     "execution_count": 27,
     "metadata": {},
     "output_type": "execute_result"
    }
   ],
   "source": [
    "map"
   ]
  },
  {
   "cell_type": "code",
   "execution_count": 28,
   "metadata": {},
   "outputs": [],
   "source": [
    "from functools import reduce"
   ]
  },
  {
   "cell_type": "code",
   "execution_count": 38,
   "metadata": {},
   "outputs": [
    {
     "data": {
      "text/plain": [
       "45"
      ]
     },
     "execution_count": 38,
     "metadata": {},
     "output_type": "execute_result"
    }
   ],
   "source": [
    "reduce(lambda x,y:x+y,range(10))"
   ]
  },
  {
   "cell_type": "code",
   "execution_count": 39,
   "metadata": {},
   "outputs": [
    {
     "data": {
      "text/plain": [
       "[0, 1, 2, 3, 4, 5, 6, 7, 8, 9]"
      ]
     },
     "execution_count": 39,
     "metadata": {},
     "output_type": "execute_result"
    }
   ],
   "source": [
    "list(range(10))"
   ]
  },
  {
   "cell_type": "code",
   "execution_count": 42,
   "metadata": {},
   "outputs": [
    {
     "data": {
      "text/plain": [
       "[1, 9, 25, 49, 81, 121, 169, 225, 289, 361]"
      ]
     },
     "execution_count": 42,
     "metadata": {},
     "output_type": "execute_result"
    }
   ],
   "source": [
    "list(map(lambda x:x**2,filter(lambda x:x%2==1,range(20))))"
   ]
  },
  {
   "cell_type": "code",
   "execution_count": 43,
   "metadata": {},
   "outputs": [],
   "source": [
    "a=[2,3,4,5,6]"
   ]
  },
  {
   "cell_type": "code",
   "execution_count": 47,
   "metadata": {},
   "outputs": [
    {
     "data": {
      "text/plain": [
       "[2, 3, 4, 5, 6]"
      ]
     },
     "execution_count": 47,
     "metadata": {},
     "output_type": "execute_result"
    }
   ],
   "source": [
    "[i for i in a]"
   ]
  },
  {
   "cell_type": "code",
   "execution_count": 48,
   "metadata": {},
   "outputs": [
    {
     "data": {
      "text/plain": [
       "[4, 9, 16, 25, 36]"
      ]
     },
     "execution_count": 48,
     "metadata": {},
     "output_type": "execute_result"
    }
   ],
   "source": [
    "[i**2 for i in a]"
   ]
  },
  {
   "cell_type": "code",
   "execution_count": 50,
   "metadata": {},
   "outputs": [
    {
     "data": {
      "text/plain": [
       "[4, 27, 16, 125, 36]"
      ]
     },
     "execution_count": 50,
     "metadata": {},
     "output_type": "execute_result"
    }
   ],
   "source": [
    "[i**2 if i%2==0 else i**3 for i in a]"
   ]
  },
  {
   "cell_type": "code",
   "execution_count": 52,
   "metadata": {},
   "outputs": [
    {
     "data": {
      "text/plain": [
       "[0, 1, 4, 27, 16, 125, 36, 343, 64, 729]"
      ]
     },
     "execution_count": 52,
     "metadata": {},
     "output_type": "execute_result"
    }
   ],
   "source": [
    "[i **2 if i%2==0 else i**3 for i in range(10)]"
   ]
  },
  {
   "cell_type": "code",
   "execution_count": 56,
   "metadata": {},
   "outputs": [
    {
     "data": {
      "text/plain": [
       "[1, 4, 16, 125, 343, 64]"
      ]
     },
     "execution_count": 56,
     "metadata": {},
     "output_type": "execute_result"
    }
   ],
   "source": [
    "[i**2 if i%2==0 else i**3 for i in range(10) if i%3!=0]"
   ]
  },
  {
   "cell_type": "raw",
   "metadata": {},
   "source": [
    "learn about nested coprihension"
   ]
  }
 ],
 "metadata": {
  "kernelspec": {
   "display_name": "Python 3",
   "language": "python",
   "name": "python3"
  },
  "language_info": {
   "codemirror_mode": {
    "name": "ipython",
    "version": 3
   },
   "file_extension": ".py",
   "mimetype": "text/x-python",
   "name": "python",
   "nbconvert_exporter": "python",
   "pygments_lexer": "ipython3",
   "version": "3.7.1"
  }
 },
 "nbformat": 4,
 "nbformat_minor": 2
}
