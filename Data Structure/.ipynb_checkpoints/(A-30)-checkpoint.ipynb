{
 "cells": [
  {
   "cell_type": "code",
   "execution_count": 6,
   "metadata": {},
   "outputs": [],
   "source": [
    "class Profile:\n",
    "    def __init__(self,first_name,last_name):\n",
    "        self.first_name=first_name\n",
    "        self.last_name=last_name\n",
    "    def get_full_name(self):\n",
    "        return f\"{self.first_name} {self.last_name}\""
   ]
  },
  {
   "cell_type": "code",
   "execution_count": 7,
   "metadata": {},
   "outputs": [],
   "source": [
    "p=Profile(first_name=\"Aastha\", last_name=\"Timalsina\")"
   ]
  },
  {
   "cell_type": "code",
   "execution_count": 8,
   "metadata": {},
   "outputs": [
    {
     "data": {
      "text/plain": [
       "'Aastha Timalsina'"
      ]
     },
     "execution_count": 8,
     "metadata": {},
     "output_type": "execute_result"
    }
   ],
   "source": [
    "p.get_full_name()"
   ]
  },
  {
   "cell_type": "code",
   "execution_count": 10,
   "metadata": {},
   "outputs": [
    {
     "data": {
      "text/plain": [
       "'Aastha Timalsina'"
      ]
     },
     "execution_count": 10,
     "metadata": {},
     "output_type": "execute_result"
    }
   ],
   "source": [
    "Profile(\"Aastha\",\"Timalsina\").get_full_name()"
   ]
  },
  {
   "cell_type": "markdown",
   "metadata": {},
   "source": [
    "# Class Method"
   ]
  },
  {
   "cell_type": "code",
   "execution_count": 12,
   "metadata": {},
   "outputs": [],
   "source": [
    "class Profile:\n",
    "    def __init__(self,first_name,last_name):\n",
    "        self.first_name=first_name\n",
    "        self.last_name=last_name\n",
    "    def get_full_name(self):\n",
    "        return f\"{self.first_name} {self.last_name}\"\n",
    "    @classmethod\n",
    "    def info(cls):\n",
    "        return \"I am class method\"\n",
    "    @staticmethod\n",
    "    def static():\n",
    "        return \"I am static method\"\n",
    "        "
   ]
  },
  {
   "cell_type": "code",
   "execution_count": 13,
   "metadata": {},
   "outputs": [],
   "source": [
    "p=Profile(first_name=\"Aastha\",last_name=\"Timalsina\")"
   ]
  },
  {
   "cell_type": "code",
   "execution_count": 15,
   "metadata": {},
   "outputs": [
    {
     "data": {
      "text/plain": [
       "'Aastha Timalsina'"
      ]
     },
     "execution_count": 15,
     "metadata": {},
     "output_type": "execute_result"
    }
   ],
   "source": [
    "p.get_full_name()"
   ]
  },
  {
   "cell_type": "code",
   "execution_count": 16,
   "metadata": {},
   "outputs": [
    {
     "data": {
      "text/plain": [
       "'I am class method'"
      ]
     },
     "execution_count": 16,
     "metadata": {},
     "output_type": "execute_result"
    }
   ],
   "source": [
    "p.info()"
   ]
  },
  {
   "cell_type": "code",
   "execution_count": 17,
   "metadata": {},
   "outputs": [
    {
     "ename": "TypeError",
     "evalue": "get_full_name() missing 1 required positional argument: 'self'",
     "output_type": "error",
     "traceback": [
      "\u001b[1;31m---------------------------------------------------------------------------\u001b[0m",
      "\u001b[1;31mTypeError\u001b[0m                                 Traceback (most recent call last)",
      "\u001b[1;32m<ipython-input-17-419b45e107e3>\u001b[0m in \u001b[0;36m<module>\u001b[1;34m\u001b[0m\n\u001b[1;32m----> 1\u001b[1;33m \u001b[0mProfile\u001b[0m\u001b[1;33m.\u001b[0m\u001b[0mget_full_name\u001b[0m\u001b[1;33m(\u001b[0m\u001b[1;33m)\u001b[0m\u001b[1;33m\u001b[0m\u001b[1;33m\u001b[0m\u001b[0m\n\u001b[0m",
      "\u001b[1;31mTypeError\u001b[0m: get_full_name() missing 1 required positional argument: 'self'"
     ]
    }
   ],
   "source": [
    "Profile.get_full_name()"
   ]
  },
  {
   "cell_type": "code",
   "execution_count": 18,
   "metadata": {},
   "outputs": [
    {
     "data": {
      "text/plain": [
       "'I am class method'"
      ]
     },
     "execution_count": 18,
     "metadata": {},
     "output_type": "execute_result"
    }
   ],
   "source": [
    "Profile.info()"
   ]
  },
  {
   "cell_type": "code",
   "execution_count": 19,
   "metadata": {},
   "outputs": [
    {
     "data": {
      "text/plain": [
       "'I am static method'"
      ]
     },
     "execution_count": 19,
     "metadata": {},
     "output_type": "execute_result"
    }
   ],
   "source": [
    "p.static()"
   ]
  },
  {
   "cell_type": "code",
   "execution_count": 20,
   "metadata": {},
   "outputs": [
    {
     "data": {
      "text/plain": [
       "'I am static method'"
      ]
     },
     "execution_count": 20,
     "metadata": {},
     "output_type": "execute_result"
    }
   ],
   "source": [
    "Profile.static()"
   ]
  },
  {
   "cell_type": "code",
   "execution_count": 22,
   "metadata": {},
   "outputs": [],
   "source": [
    "x=Profile(first_name=\"Ram\",last_name=\"Dahal\")"
   ]
  },
  {
   "cell_type": "code",
   "execution_count": 109,
   "metadata": {},
   "outputs": [],
   "source": [
    "class Account:\n",
    "    def __init__(self,name,address,amount):\n",
    "        self.name=name\n",
    "        self.addess=address\n",
    "        if amount<500:\n",
    "            raise ValueError(\"Minimum balance should be 500\")\n",
    "        else:\n",
    "            self.total_balance=amount\n",
    "    def deposit(self,amount):\n",
    "        if amount<0:\n",
    "            raise ValueError(\"Amount must be in positive\")\n",
    "        self.total_balance=self.total_balance+amount\n",
    "        return f\"Your new balance is {self.total_balance}\"\n",
    "    def enquiry(self,amount):\n",
    "        return f\"your balance is {self.total_balance}\"\n",
    "    def withdraw(self,amount):\n",
    "        if self.total_balance-amount<500:\n",
    "            return AttributeError(\"You have no suficient balance\")\n",
    "        self.total_balance=self.total_balance-amount\n",
    "        return f\"Your remaining balance is {self.total_balance}\"\n",
    "    "
   ]
  },
  {
   "cell_type": "code",
   "execution_count": 6,
   "metadata": {},
   "outputs": [],
   "source": [
    "astha=Account('Aastha','ktm',1500)"
   ]
  },
  {
   "cell_type": "code",
   "execution_count": 115,
   "metadata": {},
   "outputs": [
    {
     "ename": "TypeError",
     "evalue": "enquiry() missing 1 required positional argument: 'amount'",
     "output_type": "error",
     "traceback": [
      "\u001b[1;31m---------------------------------------------------------------------------\u001b[0m",
      "\u001b[1;31mTypeError\u001b[0m                                 Traceback (most recent call last)",
      "\u001b[1;32m<ipython-input-115-95494819bfd6>\u001b[0m in \u001b[0;36m<module>\u001b[1;34m\u001b[0m\n\u001b[1;32m----> 1\u001b[1;33m \u001b[0mastha\u001b[0m\u001b[1;33m.\u001b[0m\u001b[0menquiry\u001b[0m\u001b[1;33m(\u001b[0m\u001b[1;33m)\u001b[0m\u001b[1;33m\u001b[0m\u001b[1;33m\u001b[0m\u001b[0m\n\u001b[0m",
      "\u001b[1;31mTypeError\u001b[0m: enquiry() missing 1 required positional argument: 'amount'"
     ]
    }
   ],
   "source": [
    "astha.enquiry()"
   ]
  },
  {
   "cell_type": "code",
   "execution_count": 112,
   "metadata": {},
   "outputs": [],
   "source": [
    "astha.withdraw(500)"
   ]
  },
  {
   "cell_type": "code",
   "execution_count": 107,
   "metadata": {},
   "outputs": [],
   "source": [
    "astha.deposit(15000)"
   ]
  },
  {
   "cell_type": "code",
   "execution_count": 20,
   "metadata": {},
   "outputs": [],
   "source": [
    "class Account:\n",
    "    def __init__(self,name,address,amount):\n",
    "        self.name=name\n",
    "        self.addess=address\n",
    "        if amount<500:\n",
    "            raise ValueError(\"Minimum balance should be 500\")\n",
    "        else:\n",
    "            self.total_balance=amount\n",
    "    def deposit(self,amount):\n",
    "        if amount<0:\n",
    "            raise ValueError(\"Amount must be in positive\")\n",
    "        self.total_balance=self.total_balance+amount\n",
    "        return f\"Your new balance is {self.total_balance}\"\n",
    "    def enquiry(self):\n",
    "        return f\"your balance is {self.total_balance}\"\n",
    "    def withdraw(self,amount):\n",
    "        if self.total_balance-amount<500:\n",
    "            return AttributeError(\"You have no suficient balance\")\n",
    "        self.total_balance=self.total_balance-amount\n",
    "        return f\"Your remaining balance is {self.total_balance}\"\n",
    "    "
   ]
  },
  {
   "cell_type": "code",
   "execution_count": 21,
   "metadata": {},
   "outputs": [],
   "source": [
    "aasthat=Account('Aasta','bnp',1400)"
   ]
  },
  {
   "cell_type": "code",
   "execution_count": 22,
   "metadata": {},
   "outputs": [
    {
     "data": {
      "text/plain": [
       "'Your new balance is 151400'"
      ]
     },
     "execution_count": 22,
     "metadata": {},
     "output_type": "execute_result"
    }
   ],
   "source": [
    "aasthat.deposit(150000)"
   ]
  },
  {
   "cell_type": "code",
   "execution_count": 23,
   "metadata": {},
   "outputs": [
    {
     "data": {
      "text/plain": [
       "'your balance is 151400'"
      ]
     },
     "execution_count": 23,
     "metadata": {},
     "output_type": "execute_result"
    }
   ],
   "source": [
    "aasthat.enquiry()"
   ]
  },
  {
   "cell_type": "code",
   "execution_count": 24,
   "metadata": {},
   "outputs": [
    {
     "data": {
      "text/plain": [
       "'Your remaining balance is 141400'"
      ]
     },
     "execution_count": 24,
     "metadata": {},
     "output_type": "execute_result"
    }
   ],
   "source": [
    "aasthat.withdraw(10000)"
   ]
  },
  {
   "cell_type": "code",
   "execution_count": 27,
   "metadata": {},
   "outputs": [
    {
     "data": {
      "text/plain": [
       "<__main__.Account at 0x195fc0ffda0>"
      ]
     },
     "execution_count": 27,
     "metadata": {},
     "output_type": "execute_result"
    }
   ],
   "source": [
    "Account('ast','gg',555555)"
   ]
  },
  {
   "cell_type": "code",
   "execution_count": null,
   "metadata": {},
   "outputs": [],
   "source": []
  },
  {
   "cell_type": "code",
   "execution_count": null,
   "metadata": {},
   "outputs": [],
   "source": []
  }
 ],
 "metadata": {
  "kernelspec": {
   "display_name": "Python 3",
   "language": "python",
   "name": "python3"
  },
  "language_info": {
   "codemirror_mode": {
    "name": "ipython",
    "version": 3
   },
   "file_extension": ".py",
   "mimetype": "text/x-python",
   "name": "python",
   "nbconvert_exporter": "python",
   "pygments_lexer": "ipython3",
   "version": "3.7.1"
  }
 },
 "nbformat": 4,
 "nbformat_minor": 2
}
