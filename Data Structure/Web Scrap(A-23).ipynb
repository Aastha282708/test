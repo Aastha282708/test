{
 "cells": [
  {
   "cell_type": "code",
   "execution_count": 8,
   "metadata": {},
   "outputs": [],
   "source": [
    "import requests\n",
    "from bs4 import BeautifulSoup"
   ]
  },
  {
   "cell_type": "raw",
   "metadata": {},
   "source": [
    "#pip install requests"
   ]
  },
  {
   "cell_type": "code",
   "execution_count": 12,
   "metadata": {},
   "outputs": [],
   "source": [
    "base_url=\"https://www.phaster.com/zip_code.html\""
   ]
  },
  {
   "cell_type": "code",
   "execution_count": 13,
   "metadata": {},
   "outputs": [],
   "source": [
    "html=requests.get(base_url)"
   ]
  },
  {
   "cell_type": "code",
   "execution_count": 14,
   "metadata": {},
   "outputs": [],
   "source": [
    "parsed_html=BeautifulSoup(html.content,'lxml')"
   ]
  },
  {
   "cell_type": "code",
   "execution_count": 11,
   "metadata": {},
   "outputs": [
    {
     "name": "stdout",
     "output_type": "stream",
     "text": [
      "<html><head><title>Valid US Cities/Zip Codes</title><style type=\"text/css\">A{text-decoration:none}A:hover{color:red;text-decoration:underline}</style></head><body alink=\"#FF0000\" bgcolor=\"#FFFFFF\" link=\"#006699\" text=\"#000000\" vlink=\"#006699\"><blockquote><center><h2><i> Valid US Cities and Zip Codes</i></h2></center><p></p><table border=\"\" cols=\"3\" width=\"90%\"><tr><td bgcolor=\"#006666\"><b><font color=\"#FFFFFF\" face=\"Arial,Helvetica\">State</font></b></td><td bgcolor=\"#006666\"><b><font color=\"#FFFFFF\" face=\"Arial,Helvetica\">City</font></b></td><td bgcolor=\"#006666\"><font color=\"#FFFFFF\" face=\"Arial,Helvetica\"><b>ZIP Code(s)</b></font></td></tr><tr><td><font size=\"-1\">Alabama (AL)</font></td><td><font size=\"-1\">Huntsville</font></td><td><font size=\"-1\">35801 thru 35816</font></td></tr><tr><td><font size=\"-1\">Alaska (AK)</font></td><td><font size=\"-1\">Anchorage</font></td><td><font size=\"-1\">99501 thru 99524</font></td></tr><tr><td><font size=\"-1\">Arizona (AZ)</font></td><td><font size=\"-1\">Phoenix</font></td><td><font size=\"-1\">85001 thru 85055</font></td></tr><tr><td><font size=\"-1\">Arkansas (AR)</font></td><td><font size=\"-1\">Little Rock</font></td><td><font size=\"-1\">72201 thru 72217</font></td></tr><tr><td><font size=\"-1\">California (CA)</font></td><td><font size=\"-1\">Sacramento</font><br/> <br/><font size=\"-1\">Los Angeles</font><br/> <br/><font size=\"-1\">Beverly Hills</font></td><td><font size=\"-1\">94203 thru 94209</font><br/> <br/><font size=\"-1\">90001 thru 90089</font><br/> <br/><font size=\"-1\">90209 thru 90213</font></td></tr><tr><td><font size=\"-1\">Colorado (CO)</font></td><td><font size=\"-1\">Denver</font></td><td><font size=\"-1\">80201 thru 80239</font></td></tr><tr><td><font size=\"-1\">Conneticut (CT)</font></td><td><font size=\"-1\">Hartford</font></td><td><font size=\"-1\">06101 thru 06112</font></td></tr><tr><td><font size=\"-1\">Deleware (DE)</font></td><td><font size=\"-1\">Dover</font></td><td><font size=\"-1\">19901 thru 19905</font></td></tr><tr><td><font size=\"-1\">District of Columbia (DC)</font></td><td><font size=\"-1\">Washington</font></td><td><font size=\"-1\">20001 thru 20020</font></td></tr><tr><td><font size=\"-1\">Florida (FL)</font></td><td><font size=\"-1\">Pensacola</font><br/> <br/><font size=\"-1\">Miami</font><br/> <br/><font size=\"-1\">Orlando</font></td><td><font size=\"-1\">32501 thru 32509</font><br/> <br/><font size=\"-1\">33124 thru 33190</font><br/> <br/><font size=\"-1\">32801 thru 32837</font></td></tr><tr><td><font size=\"-1\">Georgia (GA)</font></td><td><font size=\"-1\">Atlanta</font></td><td><font size=\"-1\">30301 thru 30381</font></td></tr><tr><td><font size=\"-1\">Hawaii (HI)</font></td><td><font size=\"-1\">Honolulu</font></td><td><font size=\"-1\">96801 thru 96830</font></td></tr><tr><td><font size=\"-1\">Idaho (ID)</font></td><td><font size=\"-1\">Montpelier</font></td><td><font size=\"-1\">83254</font></td></tr><tr><td><font size=\"-1\">Illinois (IL)</font></td><td><font size=\"-1\">Chicago</font><br/> <br/><font size=\"-1\">Springfield</font></td><td><font size=\"-1\">60601 thru 60641</font><br/> <br/><font size=\"-1\">62701 thru 62709</font></td></tr><tr><td><font size=\"-1\">Indiana (IN)</font></td><td><font size=\"-1\">Indianapolis</font></td><td><font size=\"-1\">46201 thru 46209</font></td></tr><tr><td><font size=\"-1\">Iowa (IA)</font></td><td><font size=\"-1\">Davenport</font><br/> <br/><font size=\"-1\">Des Moines</font></td><td><font size=\"-1\">52801 thru 52809</font><br/> <br/><font size=\"-1\">50301 thru 50323</font></td></tr><tr><td><font size=\"-1\">Kansas (KS)</font></td><td><font size=\"-1\">Wichita</font></td><td><font size=\"-1\">67201 thru 67221</font></td></tr><tr><td><font size=\"-1\">Kentucky (KY)</font></td><td><font size=\"-1\">Hazard</font></td><td><font size=\"-1\">41701- 41702</font></td></tr><tr><td><font size=\"-1\">Lousiana (LA)</font></td><td><font size=\"-1\">New Orleans</font></td><td><font size=\"-1\">70112 thru 70119</font></td></tr><tr><td><font size=\"-1\">Maine (ME)</font></td><td><font size=\"-1\">Freeport</font></td><td><font size=\"-1\">04032 thru 04034</font></td></tr><tr><td><font size=\"-1\">Maryland (MD)</font></td><td><font size=\"-1\">Baltimore</font></td><td><font size=\"-1\">21201 thru 21237</font></td></tr><tr><td><font size=\"-1\">Massachusetts (MA)</font></td><td><font size=\"-1\">Boston</font></td><td><font size=\"-1\">02101 thru 02137</font></td></tr><tr><td><font size=\"-1\">Michigan (MI)</font></td><td><font size=\"-1\">Coldwater</font><br/> <br/><font size=\"-1\">Gaylord</font></td><td><font size=\"-1\">49036</font><br/> <br/><font size=\"-1\">49734 - 49735</font></td></tr><tr><td><font size=\"-1\">Minnesota (MN)</font></td><td><font size=\"-1\">Duluth</font></td><td><font size=\"-1\">55801 thru 55808</font></td></tr><tr><td><font size=\"-1\">Mississippo (MS)</font></td><td><font size=\"-1\">Biloxi</font></td><td><font size=\"-1\">39530 thru 39535</font></td></tr><tr><td><font size=\"-1\">Missouri (MO)</font></td><td><font size=\"-1\">St. Louis</font></td><td><font size=\"-1\">63101 thru 63141</font></td></tr><tr><td><font size=\"-1\">Montana (MT)</font></td><td><font size=\"-1\">Laurel</font></td><td><font size=\"-1\">59044</font></td></tr><tr><td><font size=\"-1\">Nebraska (NE)</font></td><td><font size=\"-1\">Hastings</font></td><td><font size=\"-1\">68901 - 68902</font></td></tr><tr><td><font size=\"-1\">Nevada (NV)</font></td><td><font size=\"-1\">Reno</font></td><td><font size=\"-1\">89501 thru 89513</font></td></tr><tr><td><font size=\"-1\">New Hampshire (NH)</font></td><td><font size=\"-1\">Ashland</font></td><td><font size=\"-1\">03217</font></td></tr><tr><td><font size=\"-1\">New Jersey (NJ)</font></td><td><font size=\"-1\">Livingston</font></td><td><font size=\"-1\">07039</font></td></tr><tr><td><font size=\"-1\">New Mexico (NM)</font></td><td><font size=\"-1\">Santa Fe</font></td><td><font size=\"-1\">87500 thru 87506</font></td></tr><tr><td><font size=\"-1\">New York (NY)</font></td><td><font size=\"-1\">New York</font></td><td><font size=\"-1\">10001 thru 10048</font></td></tr><tr><td><font size=\"-1\">North Carolina (NC)</font></td><td><font size=\"-1\">Oxford</font></td><td><font size=\"-1\">27565</font></td></tr><tr><td><font size=\"-1\">North Dakota (ND)</font></td><td><font size=\"-1\">Walhalla</font></td><td><font size=\"-1\">58282</font></td></tr><tr><td><font size=\"-1\">Ohio (OH)</font></td><td><font size=\"-1\">Cleveland</font></td><td><font size=\"-1\">44101 thru 44179</font></td></tr><tr><td><font size=\"-1\">Oklahoma (OK)</font></td><td><font size=\"-1\">Tulsa</font></td><td><font size=\"-1\">74101 thru 74110</font></td></tr><tr><td><font size=\"-1\">Oregon (OR)</font></td><td><font size=\"-1\">Portland</font></td><td><font size=\"-1\">97201 thru 97225</font></td></tr><tr><td><font size=\"-1\">Pennsylvania (PA)</font></td><td><font size=\"-1\">Pittsburgh</font></td><td><font size=\"-1\">15201 thru 15244</font></td></tr><tr><td><font size=\"-1\">Rhode Island (RI)</font></td><td><font size=\"-1\">Newport</font></td><td><font size=\"-1\">02840 - 02841</font></td></tr><tr><td><font size=\"-1\">South Carolina (SC)</font></td><td><font size=\"-1\">Camden</font></td><td><font size=\"-1\">29020</font></td></tr><tr><td><font size=\"-1\">South Dakota (SD)</font></td><td><font size=\"-1\">Aberdeen</font></td><td><font size=\"-1\">57401 - 57402</font></td></tr><tr><td><font size=\"-1\">Tennessee (TN)</font></td><td><font size=\"-1\">Nashville</font></td><td><font size=\"-1\">37201 thru 37222</font></td></tr><tr><td><font size=\"-1\">Texas (TX)</font></td><td><font size=\"-1\">Austin</font></td><td><font size=\"-1\">78701 thru 78705</font></td></tr><tr><td><font size=\"-1\">Utah (UT)</font></td><td><font size=\"-1\">Logan</font></td><td><font size=\"-1\">84321 thru 84323</font></td></tr><tr><td><font size=\"-1\">Vermont (VT)</font></td><td><font size=\"-1\">Killington</font></td><td><font size=\"-1\">05751</font></td></tr><tr><td><font size=\"-1\">Virginia (VA)</font></td><td><font size=\"-1\">Altavista</font></td><td><font size=\"-1\">24517</font></td></tr><tr><td><font size=\"-1\">Washington (WA)</font></td><td><font size=\"-1\">Bellevue (home of windoze)</font></td><td><font size=\"-1\">98004 thru 98009</font></td></tr><tr><td><font size=\"-1\">West Virginia (WV)</font></td><td><font size=\"-1\">Beaver</font></td><td><font size=\"-1\">25813</font></td></tr><tr><td><font size=\"-1\">Wisconsin (WI)</font></td><td><font size=\"-1\">Milwaukee</font></td><td><font size=\"-1\">53201 thru 53228</font></td></tr><tr><td><font size=\"-1\">Wyoming (WY)</font></td><td><font size=\"-1\">Pinedale</font></td><td><font size=\"-1\">82941</font></td></tr></table><p><font size=\"-1\">Additional USPS <a href=\"http://www.usps.gov/ncsc/lookups/lookup_ctystzip.html\">City/State/ZIP Code Associations</a>.</font></p><p><font size=\"-1\">Enter an address. If found, the standardized address and <a href=\"http://www.usps.gov/ncsc/lookups/lookup_zip+4.html\">ZIP+4 Code</a> Code will be returned.<p>F.Y.I. <b>ZIP is an acronym for Zone Improvement Plan</b>. A ZIP Code is a 5-digit code that identifies a specific geographic delivery area. ZIP Codes can represent an area within a state (an area that may or may not cross county boundaries), an area that crosses state boundaries (an unusual condition), or a single building or company that has a very high mail volume. </p></font></p></blockquote><br/> <br/> <br/> <br/> <br/> <p></p><center><table border=\"0\" cellpadding=\"0\" cols=\"1\" width=\"98%\"><tr><td><div align=\"right\"><hr width=\"100%\"/><a href=\"index.html\" target=\"_top\"><img alt=\"Home\" border=\"0\" height=\"40\" src=\"/graphics/xhome.gif.pagespeed.ic.mTR6A2JMc0.png\" width=\"44\"/></a></div></td></tr></table></center></body></html>\n",
      "\n"
     ]
    }
   ],
   "source": [
    "print(parsed_html)\n"
   ]
  },
  {
   "cell_type": "code",
   "execution_count": 15,
   "metadata": {},
   "outputs": [
    {
     "data": {
      "text/plain": [
       "<Response [200]>"
      ]
     },
     "execution_count": 15,
     "metadata": {},
     "output_type": "execute_result"
    }
   ],
   "source": [
    "html"
   ]
  },
  {
   "cell_type": "code",
   "execution_count": null,
   "metadata": {},
   "outputs": [],
   "source": []
  },
  {
   "cell_type": "code",
   "execution_count": 16,
   "metadata": {},
   "outputs": [
    {
     "data": {
      "text/plain": [
       "b'<html><head><title>Valid US Cities/Zip Codes</title><STYLE type=\"text/css\">A{text-decoration:none}A:hover{color:red;text-decoration:underline}</STYLE></head><BODY TEXT=\"#000000\" BGCOLOR=\"#FFFFFF\" LINK=\"#006699\" ALINK=\"#FF0000\" VLINK=\"#006699\"><blockquote><CENTER><H2><I> Valid US Cities and Zip Codes</I></H2></CENTER><p><table BORDER COLS=3 WIDTH=\"90%\"><tr><td BGCOLOR=\"#006666\"><b><font face=\"Arial,Helvetica\" color=\"#FFFFFF\">State</font></b></td><td BGCOLOR=\"#006666\"><b><font face=\"Arial,Helvetica\" color=\"#FFFFFF\">City</font></b></td><td BGCOLOR=\"#006666\"><font face=\"Arial,Helvetica\" color=\"#FFFFFF\"><b>ZIP Code(s)</b></font></td></tr><tr><td><font size=-1>Alabama (AL)</font></td><td><font size=-1>Huntsville</font></td><td><font size=-1>35801 thru 35816</font></td></tr><tr><td><font size=-1>Alaska (AK)</font></td><td><font size=-1>Anchorage</font></td><td><font size=-1>99501 thru 99524</font></td></tr><tr><td><font size=-1>Arizona (AZ)</font></td><td><font size=-1>Phoenix</font></td><td><font size=-1>85001 thru 85055</font></td></tr><tr><td><font size=-1>Arkansas (AR)</font></td><td><font size=-1>Little Rock</font></td><td><font size=-1>72201 thru 72217</font></td></tr><tr><td><font size=-1>California (CA)</font></td><td><font size=-1>Sacramento</font><br>&#160;<br><font size=-1>Los Angeles</font><br>&#160;<br><font size=-1>Beverly Hills</font></td><td><font size=-1>94203 thru 94209</font><br>&#160;<br><font size=-1>90001 thru 90089</font><br>&#160;<br><font size=-1>90209 thru 90213</font></td></tr><tr><td><font size=-1>Colorado (CO)</font></td><td><font size=-1>Denver</font></td><td><font size=-1>80201 thru 80239</font></td></tr><tr><td><font size=-1>Conneticut (CT)</font></td><td><font size=-1>Hartford</font></td><td><font size=-1>06101 thru 06112</font></td></tr><tr><td><font size=-1>Deleware (DE)</font></td><td><font size=-1>Dover</font></td><td><font size=-1>19901 thru 19905</font></td></tr><tr><td><font size=-1>District of Columbia (DC)</font></td><td><font size=-1>Washington</font></td><td><font size=-1>20001 thru 20020</font></td></tr><tr><td><font size=-1>Florida (FL)</font></td><td><font size=-1>Pensacola</font><br>&#160;<br><font size=-1>Miami</font><br>&#160;<br><font size=-1>Orlando</font></td><td><font size=-1>32501 thru 32509</font><br>&#160;<br><font size=-1>33124 thru 33190</font><br>&#160;<br><font size=-1>32801 thru 32837</font></td></tr><tr><td><font size=-1>Georgia (GA)</font></td><td><font size=-1>Atlanta</font></td><td><font size=-1>30301 thru 30381</font></td></tr><tr><td><font size=-1>Hawaii (HI)</font></td><td><font size=-1>Honolulu</font></td><td><font size=-1>96801 thru 96830</font></td></tr><tr><td><font size=-1>Idaho (ID)</font></td><td><font size=-1>Montpelier</font></td><td><font size=-1>83254</font></td></tr><tr><td><font size=-1>Illinois (IL)</font></td><td><font size=-1>Chicago</font><br>&#160;<br><font size=-1>Springfield</font></td><td><font size=-1>60601 thru 60641</font><br>&#160;<br><font size=-1>62701 thru 62709</font></td></tr><tr><td><font size=-1>Indiana (IN)</font></td><td><font size=-1>Indianapolis</font></td><td><font size=-1>46201 thru 46209</font></td></tr><tr><td><font size=-1>Iowa (IA)</font></td><td><font size=-1>Davenport</font><br>&#160;<br><font size=-1>Des Moines</font></td><td><font size=-1>52801 thru 52809</font><br>&#160;<br><font size=-1>50301 thru 50323</font></td></tr><tr><td><font size=-1>Kansas (KS)</font></td><td><font size=-1>Wichita</font></td><td><font size=-1>67201 thru 67221</font></td></tr><tr><td><font size=-1>Kentucky (KY)</font></td><td><font size=-1>Hazard</font></td><td><font size=-1>41701- 41702</font></td></tr><tr><td><font size=-1>Lousiana (LA)</font></td><td><font size=-1>New Orleans</font></td><td><font size=-1>70112 thru 70119</font></td></tr><tr><td><font size=-1>Maine (ME)</font></td><td><font size=-1>Freeport</font></td><td><font size=-1>04032 thru 04034</font></td></tr><tr><td><font size=-1>Maryland (MD)</font></td><td><font size=-1>Baltimore</font></td><td><font size=-1>21201 thru 21237</font></td></tr><tr><td><font size=-1>Massachusetts (MA)</font></td><td><font size=-1>Boston</font></td><td><font size=-1>02101 thru 02137</font></td></tr><tr><td><font size=-1>Michigan (MI)</font></td><td><font size=-1>Coldwater</font><br>&#160;<br><font size=-1>Gaylord</font></td><td><font size=-1>49036</font><br>&#160;<br><font size=-1>49734 - 49735</font></td></tr><tr><td><font size=-1>Minnesota (MN)</font></td><td><font size=-1>Duluth</font></td><td><font size=-1>55801 thru 55808</font></td></tr><tr><td><font size=-1>Mississippo (MS)</font></td><td><font size=-1>Biloxi</font></td><td><font size=-1>39530 thru 39535</font></td></tr><tr><td><font size=-1>Missouri (MO)</font></td><td><font size=-1>St. Louis</font></td><td><font size=-1>63101 thru 63141</font></td></tr><tr><td><font size=-1>Montana (MT)</font></td><td><font size=-1>Laurel</font></td><td><font size=-1>59044</font></td></tr><tr><td><font size=-1>Nebraska (NE)</font></td><td><font size=-1>Hastings</font></td><td><font size=-1>68901 - 68902</font></td></tr><tr><td><font size=-1>Nevada (NV)</font></td><td><font size=-1>Reno</font></td><td><font size=-1>89501 thru 89513</font></td></tr><tr><td><font size=-1>New Hampshire (NH)</font></td><td><font size=-1>Ashland</font></td><td><font size=-1>03217</font></td></tr><tr><td><font size=-1>New Jersey (NJ)</font></td><td><font size=-1>Livingston</font></td><td><font size=-1>07039</font></td></tr><tr><td><font size=-1>New Mexico (NM)</font></td><td><font size=-1>Santa Fe</font></td><td><font size=-1>87500 thru 87506</font></td></tr><tr><td><font size=-1>New York (NY)</font></td><td><font size=-1>New York</font></td><td><font size=-1>10001 thru 10048</font></td></tr><tr><td><font size=-1>North Carolina (NC)</font></td><td><font size=-1>Oxford</font></td><td><font size=-1>27565</font></td></tr><tr><td><font size=-1>North Dakota (ND)</font></td><td><font size=-1>Walhalla</font></td><td><font size=-1>58282</font></td></tr><tr><td><font size=-1>Ohio (OH)</font></td><td><font size=-1>Cleveland</font></td><td><font size=-1>44101 thru 44179</font></td></tr><tr><td><font size=-1>Oklahoma (OK)</font></td><td><font size=-1>Tulsa</font></td><td><font size=-1>74101 thru 74110</font></td></tr><tr><td><font size=-1>Oregon (OR)</font></td><td><font size=-1>Portland</font></td><td><font size=-1>97201 thru 97225</font></td></tr><tr><td><font size=-1>Pennsylvania (PA)</font></td><td><font size=-1>Pittsburgh</font></td><td><font size=-1>15201 thru 15244</font></td></tr><tr><td><font size=-1>Rhode Island (RI)</font></td><td><font size=-1>Newport</font></td><td><font size=-1>02840 - 02841</font></td></tr><tr><td><font size=-1>South Carolina (SC)</font></td><td><font size=-1>Camden</font></td><td><font size=-1>29020</font></td></tr><tr><td><font size=-1>South Dakota (SD)</font></td><td><font size=-1>Aberdeen</font></td><td><font size=-1>57401 - 57402</font></td></tr><tr><td><font size=-1>Tennessee (TN)</font></td><td><font size=-1>Nashville</font></td><td><font size=-1>37201 thru 37222</font></td></tr><tr><td><font size=-1>Texas (TX)</font></td><td><font size=-1>Austin</font></td><td><font size=-1>78701 thru 78705</font></td></tr><tr><td><font size=-1>Utah (UT)</font></td><td><font size=-1>Logan</font></td><td><font size=-1>84321 thru 84323</font></td></tr><tr><td><font size=-1>Vermont (VT)</font></td><td><font size=-1>Killington</font></td><td><font size=-1>05751</font></td></tr><tr><td><font size=-1>Virginia (VA)</font></td><td><font size=-1>Altavista</font></td><td><font size=-1>24517</font></td></tr><tr><td><font size=-1>Washington (WA)</font></td><td><font size=-1>Bellevue (home of windoze)</font></td><td><font size=-1>98004 thru 98009</font></td></tr><tr><td><font size=-1>West Virginia (WV)</font></td><td><font size=-1>Beaver</font></td><td><font size=-1>25813</font></td></tr><tr><td><font size=-1>Wisconsin (WI)</font></td><td><font size=-1>Milwaukee</font></td><td><font size=-1>53201 thru 53228</font></td></tr><tr><td><font size=-1>Wyoming (WY)</font></td><td><font size=-1>Pinedale</font></td><td><font size=-1>82941</font></td></tr></table><p><font size=-1>Additional USPS <a href=\"http://www.usps.gov/ncsc/lookups/lookup_ctystzip.html\">City/State/ZIP Code Associations</a>.</font><P><font size=-1>Enter an address. If found, the standardized address and <a href=\"http://www.usps.gov/ncsc/lookups/lookup_zip+4.html\">ZIP+4 Code</a> Code will be returned.<P>F.Y.I. <b>ZIP is an acronym for Zone Improvement Plan</b>. A ZIP Code is a 5-digit code that identifies a specific geographic delivery area. ZIP Codes can represent an area within a state (an area that may or may not cross county boundaries), an area that crosses state boundaries (an unusual condition), or a single building or company that has a very high mail volume. </font></blockquote><br>&#160;<br>&#160;<br>&#160;<br>&#160;<br>&#160;<p><CENTER><TABLE BORDER=0 CELLPADDING=0 COLS=1 WIDTH=\"98%\"><TR><TD><DIV ALIGN=right><HR WIDTH=\"100%\"><A HREF=\"index.html\" target=\"_top\"><IMG SRC=\"/graphics/xhome.gif.pagespeed.ic.mTR6A2JMc0.png\" ALT=\"Home\" BORDER=0 HEIGHT=40 WIDTH=44></A></DIV></TD></TR></TABLE></CENTER></BODY></html>\\n'"
      ]
     },
     "execution_count": 16,
     "metadata": {},
     "output_type": "execute_result"
    }
   ],
   "source": [
    "html.content"
   ]
  },
  {
   "cell_type": "code",
   "execution_count": 17,
   "metadata": {},
   "outputs": [
    {
     "data": {
      "text/plain": [
       "'Valid US Cities/Zip Codes'"
      ]
     },
     "execution_count": 17,
     "metadata": {},
     "output_type": "execute_result"
    }
   ],
   "source": [
    "parsed_html.title.text"
   ]
  },
  {
   "cell_type": "code",
   "execution_count": 18,
   "metadata": {},
   "outputs": [
    {
     "data": {
      "text/plain": [
       "<head><title>Valid US Cities/Zip Codes</title><style type=\"text/css\">A{text-decoration:none}A:hover{color:red;text-decoration:underline}</style></head>"
      ]
     },
     "execution_count": 18,
     "metadata": {},
     "output_type": "execute_result"
    }
   ],
   "source": [
    "parsed_html.head"
   ]
  },
  {
   "cell_type": "code",
   "execution_count": 19,
   "metadata": {},
   "outputs": [],
   "source": [
    "parsed_html.head.meta"
   ]
  },
  {
   "cell_type": "code",
   "execution_count": 20,
   "metadata": {},
   "outputs": [
    {
     "data": {
      "text/plain": [
       "<body alink=\"#FF0000\" bgcolor=\"#FFFFFF\" link=\"#006699\" text=\"#000000\" vlink=\"#006699\"><blockquote><center><h2><i> Valid US Cities and Zip Codes</i></h2></center><p></p><table border=\"\" cols=\"3\" width=\"90%\"><tr><td bgcolor=\"#006666\"><b><font color=\"#FFFFFF\" face=\"Arial,Helvetica\">State</font></b></td><td bgcolor=\"#006666\"><b><font color=\"#FFFFFF\" face=\"Arial,Helvetica\">City</font></b></td><td bgcolor=\"#006666\"><font color=\"#FFFFFF\" face=\"Arial,Helvetica\"><b>ZIP Code(s)</b></font></td></tr><tr><td><font size=\"-1\">Alabama (AL)</font></td><td><font size=\"-1\">Huntsville</font></td><td><font size=\"-1\">35801 thru 35816</font></td></tr><tr><td><font size=\"-1\">Alaska (AK)</font></td><td><font size=\"-1\">Anchorage</font></td><td><font size=\"-1\">99501 thru 99524</font></td></tr><tr><td><font size=\"-1\">Arizona (AZ)</font></td><td><font size=\"-1\">Phoenix</font></td><td><font size=\"-1\">85001 thru 85055</font></td></tr><tr><td><font size=\"-1\">Arkansas (AR)</font></td><td><font size=\"-1\">Little Rock</font></td><td><font size=\"-1\">72201 thru 72217</font></td></tr><tr><td><font size=\"-1\">California (CA)</font></td><td><font size=\"-1\">Sacramento</font><br/> <br/><font size=\"-1\">Los Angeles</font><br/> <br/><font size=\"-1\">Beverly Hills</font></td><td><font size=\"-1\">94203 thru 94209</font><br/> <br/><font size=\"-1\">90001 thru 90089</font><br/> <br/><font size=\"-1\">90209 thru 90213</font></td></tr><tr><td><font size=\"-1\">Colorado (CO)</font></td><td><font size=\"-1\">Denver</font></td><td><font size=\"-1\">80201 thru 80239</font></td></tr><tr><td><font size=\"-1\">Conneticut (CT)</font></td><td><font size=\"-1\">Hartford</font></td><td><font size=\"-1\">06101 thru 06112</font></td></tr><tr><td><font size=\"-1\">Deleware (DE)</font></td><td><font size=\"-1\">Dover</font></td><td><font size=\"-1\">19901 thru 19905</font></td></tr><tr><td><font size=\"-1\">District of Columbia (DC)</font></td><td><font size=\"-1\">Washington</font></td><td><font size=\"-1\">20001 thru 20020</font></td></tr><tr><td><font size=\"-1\">Florida (FL)</font></td><td><font size=\"-1\">Pensacola</font><br/> <br/><font size=\"-1\">Miami</font><br/> <br/><font size=\"-1\">Orlando</font></td><td><font size=\"-1\">32501 thru 32509</font><br/> <br/><font size=\"-1\">33124 thru 33190</font><br/> <br/><font size=\"-1\">32801 thru 32837</font></td></tr><tr><td><font size=\"-1\">Georgia (GA)</font></td><td><font size=\"-1\">Atlanta</font></td><td><font size=\"-1\">30301 thru 30381</font></td></tr><tr><td><font size=\"-1\">Hawaii (HI)</font></td><td><font size=\"-1\">Honolulu</font></td><td><font size=\"-1\">96801 thru 96830</font></td></tr><tr><td><font size=\"-1\">Idaho (ID)</font></td><td><font size=\"-1\">Montpelier</font></td><td><font size=\"-1\">83254</font></td></tr><tr><td><font size=\"-1\">Illinois (IL)</font></td><td><font size=\"-1\">Chicago</font><br/> <br/><font size=\"-1\">Springfield</font></td><td><font size=\"-1\">60601 thru 60641</font><br/> <br/><font size=\"-1\">62701 thru 62709</font></td></tr><tr><td><font size=\"-1\">Indiana (IN)</font></td><td><font size=\"-1\">Indianapolis</font></td><td><font size=\"-1\">46201 thru 46209</font></td></tr><tr><td><font size=\"-1\">Iowa (IA)</font></td><td><font size=\"-1\">Davenport</font><br/> <br/><font size=\"-1\">Des Moines</font></td><td><font size=\"-1\">52801 thru 52809</font><br/> <br/><font size=\"-1\">50301 thru 50323</font></td></tr><tr><td><font size=\"-1\">Kansas (KS)</font></td><td><font size=\"-1\">Wichita</font></td><td><font size=\"-1\">67201 thru 67221</font></td></tr><tr><td><font size=\"-1\">Kentucky (KY)</font></td><td><font size=\"-1\">Hazard</font></td><td><font size=\"-1\">41701- 41702</font></td></tr><tr><td><font size=\"-1\">Lousiana (LA)</font></td><td><font size=\"-1\">New Orleans</font></td><td><font size=\"-1\">70112 thru 70119</font></td></tr><tr><td><font size=\"-1\">Maine (ME)</font></td><td><font size=\"-1\">Freeport</font></td><td><font size=\"-1\">04032 thru 04034</font></td></tr><tr><td><font size=\"-1\">Maryland (MD)</font></td><td><font size=\"-1\">Baltimore</font></td><td><font size=\"-1\">21201 thru 21237</font></td></tr><tr><td><font size=\"-1\">Massachusetts (MA)</font></td><td><font size=\"-1\">Boston</font></td><td><font size=\"-1\">02101 thru 02137</font></td></tr><tr><td><font size=\"-1\">Michigan (MI)</font></td><td><font size=\"-1\">Coldwater</font><br/> <br/><font size=\"-1\">Gaylord</font></td><td><font size=\"-1\">49036</font><br/> <br/><font size=\"-1\">49734 - 49735</font></td></tr><tr><td><font size=\"-1\">Minnesota (MN)</font></td><td><font size=\"-1\">Duluth</font></td><td><font size=\"-1\">55801 thru 55808</font></td></tr><tr><td><font size=\"-1\">Mississippo (MS)</font></td><td><font size=\"-1\">Biloxi</font></td><td><font size=\"-1\">39530 thru 39535</font></td></tr><tr><td><font size=\"-1\">Missouri (MO)</font></td><td><font size=\"-1\">St. Louis</font></td><td><font size=\"-1\">63101 thru 63141</font></td></tr><tr><td><font size=\"-1\">Montana (MT)</font></td><td><font size=\"-1\">Laurel</font></td><td><font size=\"-1\">59044</font></td></tr><tr><td><font size=\"-1\">Nebraska (NE)</font></td><td><font size=\"-1\">Hastings</font></td><td><font size=\"-1\">68901 - 68902</font></td></tr><tr><td><font size=\"-1\">Nevada (NV)</font></td><td><font size=\"-1\">Reno</font></td><td><font size=\"-1\">89501 thru 89513</font></td></tr><tr><td><font size=\"-1\">New Hampshire (NH)</font></td><td><font size=\"-1\">Ashland</font></td><td><font size=\"-1\">03217</font></td></tr><tr><td><font size=\"-1\">New Jersey (NJ)</font></td><td><font size=\"-1\">Livingston</font></td><td><font size=\"-1\">07039</font></td></tr><tr><td><font size=\"-1\">New Mexico (NM)</font></td><td><font size=\"-1\">Santa Fe</font></td><td><font size=\"-1\">87500 thru 87506</font></td></tr><tr><td><font size=\"-1\">New York (NY)</font></td><td><font size=\"-1\">New York</font></td><td><font size=\"-1\">10001 thru 10048</font></td></tr><tr><td><font size=\"-1\">North Carolina (NC)</font></td><td><font size=\"-1\">Oxford</font></td><td><font size=\"-1\">27565</font></td></tr><tr><td><font size=\"-1\">North Dakota (ND)</font></td><td><font size=\"-1\">Walhalla</font></td><td><font size=\"-1\">58282</font></td></tr><tr><td><font size=\"-1\">Ohio (OH)</font></td><td><font size=\"-1\">Cleveland</font></td><td><font size=\"-1\">44101 thru 44179</font></td></tr><tr><td><font size=\"-1\">Oklahoma (OK)</font></td><td><font size=\"-1\">Tulsa</font></td><td><font size=\"-1\">74101 thru 74110</font></td></tr><tr><td><font size=\"-1\">Oregon (OR)</font></td><td><font size=\"-1\">Portland</font></td><td><font size=\"-1\">97201 thru 97225</font></td></tr><tr><td><font size=\"-1\">Pennsylvania (PA)</font></td><td><font size=\"-1\">Pittsburgh</font></td><td><font size=\"-1\">15201 thru 15244</font></td></tr><tr><td><font size=\"-1\">Rhode Island (RI)</font></td><td><font size=\"-1\">Newport</font></td><td><font size=\"-1\">02840 - 02841</font></td></tr><tr><td><font size=\"-1\">South Carolina (SC)</font></td><td><font size=\"-1\">Camden</font></td><td><font size=\"-1\">29020</font></td></tr><tr><td><font size=\"-1\">South Dakota (SD)</font></td><td><font size=\"-1\">Aberdeen</font></td><td><font size=\"-1\">57401 - 57402</font></td></tr><tr><td><font size=\"-1\">Tennessee (TN)</font></td><td><font size=\"-1\">Nashville</font></td><td><font size=\"-1\">37201 thru 37222</font></td></tr><tr><td><font size=\"-1\">Texas (TX)</font></td><td><font size=\"-1\">Austin</font></td><td><font size=\"-1\">78701 thru 78705</font></td></tr><tr><td><font size=\"-1\">Utah (UT)</font></td><td><font size=\"-1\">Logan</font></td><td><font size=\"-1\">84321 thru 84323</font></td></tr><tr><td><font size=\"-1\">Vermont (VT)</font></td><td><font size=\"-1\">Killington</font></td><td><font size=\"-1\">05751</font></td></tr><tr><td><font size=\"-1\">Virginia (VA)</font></td><td><font size=\"-1\">Altavista</font></td><td><font size=\"-1\">24517</font></td></tr><tr><td><font size=\"-1\">Washington (WA)</font></td><td><font size=\"-1\">Bellevue (home of windoze)</font></td><td><font size=\"-1\">98004 thru 98009</font></td></tr><tr><td><font size=\"-1\">West Virginia (WV)</font></td><td><font size=\"-1\">Beaver</font></td><td><font size=\"-1\">25813</font></td></tr><tr><td><font size=\"-1\">Wisconsin (WI)</font></td><td><font size=\"-1\">Milwaukee</font></td><td><font size=\"-1\">53201 thru 53228</font></td></tr><tr><td><font size=\"-1\">Wyoming (WY)</font></td><td><font size=\"-1\">Pinedale</font></td><td><font size=\"-1\">82941</font></td></tr></table><p><font size=\"-1\">Additional USPS <a href=\"http://www.usps.gov/ncsc/lookups/lookup_ctystzip.html\">City/State/ZIP Code Associations</a>.</font></p><p><font size=\"-1\">Enter an address. If found, the standardized address and <a href=\"http://www.usps.gov/ncsc/lookups/lookup_zip+4.html\">ZIP+4 Code</a> Code will be returned.<p>F.Y.I. <b>ZIP is an acronym for Zone Improvement Plan</b>. A ZIP Code is a 5-digit code that identifies a specific geographic delivery area. ZIP Codes can represent an area within a state (an area that may or may not cross county boundaries), an area that crosses state boundaries (an unusual condition), or a single building or company that has a very high mail volume. </p></font></p></blockquote><br/> <br/> <br/> <br/> <br/> <p></p><center><table border=\"0\" cellpadding=\"0\" cols=\"1\" width=\"98%\"><tr><td><div align=\"right\"><hr width=\"100%\"/><a href=\"index.html\" target=\"_top\"><img alt=\"Home\" border=\"0\" height=\"40\" src=\"/graphics/xhome.gif.pagespeed.ic.mTR6A2JMc0.png\" width=\"44\"/></a></div></td></tr></table></center></body>"
      ]
     },
     "execution_count": 20,
     "metadata": {},
     "output_type": "execute_result"
    }
   ],
   "source": [
    "parsed_html.body"
   ]
  },
  {
   "cell_type": "code",
   "execution_count": 25,
   "metadata": {},
   "outputs": [],
   "source": [
    "tables=parsed_html.find_all(\"table\",attrs={\"cols\":3})"
   ]
  },
  {
   "cell_type": "code",
   "execution_count": 26,
   "metadata": {},
   "outputs": [
    {
     "data": {
      "text/plain": [
       "1"
      ]
     },
     "execution_count": 26,
     "metadata": {},
     "output_type": "execute_result"
    }
   ],
   "source": [
    "len(tables)"
   ]
  },
  {
   "cell_type": "code",
   "execution_count": 27,
   "metadata": {},
   "outputs": [],
   "source": [
    "rows=tables[0].find_all(\"tr\")"
   ]
  },
  {
   "cell_type": "code",
   "execution_count": 28,
   "metadata": {},
   "outputs": [
    {
     "data": {
      "text/plain": [
       "52"
      ]
     },
     "execution_count": 28,
     "metadata": {},
     "output_type": "execute_result"
    }
   ],
   "source": [
    "len(rows)"
   ]
  },
  {
   "cell_type": "code",
   "execution_count": 29,
   "metadata": {},
   "outputs": [],
   "source": [
    "head_row=rows[0]\n",
    "content_row=rows[1:]"
   ]
  },
  {
   "cell_type": "code",
   "execution_count": 30,
   "metadata": {},
   "outputs": [
    {
     "data": {
      "text/plain": [
       "<tr><td bgcolor=\"#006666\"><b><font color=\"#FFFFFF\" face=\"Arial,Helvetica\">State</font></b></td><td bgcolor=\"#006666\"><b><font color=\"#FFFFFF\" face=\"Arial,Helvetica\">City</font></b></td><td bgcolor=\"#006666\"><font color=\"#FFFFFF\" face=\"Arial,Helvetica\"><b>ZIP Code(s)</b></font></td></tr>"
      ]
     },
     "execution_count": 30,
     "metadata": {},
     "output_type": "execute_result"
    }
   ],
   "source": [
    "head_row"
   ]
  },
  {
   "cell_type": "code",
   "execution_count": 31,
   "metadata": {},
   "outputs": [
    {
     "data": {
      "text/plain": [
       "['State', 'City', 'ZIP Code(s)']"
      ]
     },
     "execution_count": 31,
     "metadata": {},
     "output_type": "execute_result"
    }
   ],
   "source": [
    "column_td=head_row.find_all(\"td\")\n",
    "columns=[col.text for col in column_td]\n",
    "columns"
   ]
  },
  {
   "cell_type": "code",
   "execution_count": 32,
   "metadata": {},
   "outputs": [],
   "source": [
    "values=[[data.text for data in row.find_all(\"td\")] for row in content_row]"
   ]
  },
  {
   "cell_type": "code",
   "execution_count": 33,
   "metadata": {},
   "outputs": [
    {
     "data": {
      "text/plain": [
       "51"
      ]
     },
     "execution_count": 33,
     "metadata": {},
     "output_type": "execute_result"
    }
   ],
   "source": [
    "len(values)"
   ]
  },
  {
   "cell_type": "code",
   "execution_count": 34,
   "metadata": {},
   "outputs": [
    {
     "data": {
      "text/plain": [
       "[['Alabama (AL)', 'Huntsville', '35801 thru 35816'],\n",
       " ['Alaska (AK)', 'Anchorage', '99501 thru 99524'],\n",
       " ['Arizona (AZ)', 'Phoenix', '85001 thru 85055'],\n",
       " ['Arkansas (AR)', 'Little Rock', '72201 thru 72217'],\n",
       " ['California (CA)',\n",
       "  'Sacramento\\xa0Los Angeles\\xa0Beverly Hills',\n",
       "  '94203 thru 94209\\xa090001 thru 90089\\xa090209 thru 90213'],\n",
       " ['Colorado (CO)', 'Denver', '80201 thru 80239'],\n",
       " ['Conneticut (CT)', 'Hartford', '06101 thru 06112'],\n",
       " ['Deleware (DE)', 'Dover', '19901 thru 19905'],\n",
       " ['District of Columbia (DC)', 'Washington', '20001 thru 20020'],\n",
       " ['Florida (FL)',\n",
       "  'Pensacola\\xa0Miami\\xa0Orlando',\n",
       "  '32501 thru 32509\\xa033124 thru 33190\\xa032801 thru 32837'],\n",
       " ['Georgia (GA)', 'Atlanta', '30301 thru 30381'],\n",
       " ['Hawaii (HI)', 'Honolulu', '96801 thru 96830'],\n",
       " ['Idaho (ID)', 'Montpelier', '83254'],\n",
       " ['Illinois (IL)',\n",
       "  'Chicago\\xa0Springfield',\n",
       "  '60601 thru 60641\\xa062701 thru 62709'],\n",
       " ['Indiana (IN)', 'Indianapolis', '46201 thru 46209'],\n",
       " ['Iowa (IA)',\n",
       "  'Davenport\\xa0Des Moines',\n",
       "  '52801 thru 52809\\xa050301 thru 50323'],\n",
       " ['Kansas (KS)', 'Wichita', '67201 thru 67221'],\n",
       " ['Kentucky (KY)', 'Hazard', '41701- 41702'],\n",
       " ['Lousiana (LA)', 'New Orleans', '70112 thru 70119'],\n",
       " ['Maine (ME)', 'Freeport', '04032 thru 04034'],\n",
       " ['Maryland (MD)', 'Baltimore', '21201 thru 21237'],\n",
       " ['Massachusetts (MA)', 'Boston', '02101 thru 02137'],\n",
       " ['Michigan (MI)', 'Coldwater\\xa0Gaylord', '49036\\xa049734 - 49735'],\n",
       " ['Minnesota (MN)', 'Duluth', '55801 thru 55808'],\n",
       " ['Mississippo (MS)', 'Biloxi', '39530 thru 39535'],\n",
       " ['Missouri (MO)', 'St. Louis', '63101 thru 63141'],\n",
       " ['Montana (MT)', 'Laurel', '59044'],\n",
       " ['Nebraska (NE)', 'Hastings', '68901 - 68902'],\n",
       " ['Nevada (NV)', 'Reno', '89501 thru 89513'],\n",
       " ['New Hampshire (NH)', 'Ashland', '03217'],\n",
       " ['New Jersey (NJ)', 'Livingston', '07039'],\n",
       " ['New Mexico (NM)', 'Santa Fe', '87500 thru 87506'],\n",
       " ['New York (NY)', 'New York', '10001 thru 10048'],\n",
       " ['North Carolina (NC)', 'Oxford', '27565'],\n",
       " ['North Dakota (ND)', 'Walhalla', '58282'],\n",
       " ['Ohio (OH)', 'Cleveland', '44101 thru 44179'],\n",
       " ['Oklahoma (OK)', 'Tulsa', '74101 thru 74110'],\n",
       " ['Oregon (OR)', 'Portland', '97201 thru 97225'],\n",
       " ['Pennsylvania (PA)', 'Pittsburgh', '15201 thru 15244'],\n",
       " ['Rhode Island (RI)', 'Newport', '02840 - 02841'],\n",
       " ['South Carolina (SC)', 'Camden', '29020'],\n",
       " ['South Dakota (SD)', 'Aberdeen', '57401 - 57402'],\n",
       " ['Tennessee (TN)', 'Nashville', '37201 thru 37222'],\n",
       " ['Texas (TX)', 'Austin', '78701 thru 78705'],\n",
       " ['Utah (UT)', 'Logan', '84321 thru 84323'],\n",
       " ['Vermont (VT)', 'Killington', '05751'],\n",
       " ['Virginia (VA)', 'Altavista', '24517'],\n",
       " ['Washington (WA)', 'Bellevue (home of windoze)', '98004 thru 98009'],\n",
       " ['West Virginia (WV)', 'Beaver', '25813'],\n",
       " ['Wisconsin (WI)', 'Milwaukee', '53201 thru 53228'],\n",
       " ['Wyoming (WY)', 'Pinedale', '82941']]"
      ]
     },
     "execution_count": 34,
     "metadata": {},
     "output_type": "execute_result"
    }
   ],
   "source": [
    "[row for row in values]"
   ]
  },
  {
   "cell_type": "code",
   "execution_count": 35,
   "metadata": {},
   "outputs": [
    {
     "data": {
      "text/plain": [
       "[{'State': 'Alabama (AL)',\n",
       "  'City': 'Huntsville',\n",
       "  'ZIP Code(s)': '35801 thru 35816'},\n",
       " {'State': 'Alaska (AK)',\n",
       "  'City': 'Anchorage',\n",
       "  'ZIP Code(s)': '99501 thru 99524'},\n",
       " {'State': 'Arizona (AZ)',\n",
       "  'City': 'Phoenix',\n",
       "  'ZIP Code(s)': '85001 thru 85055'},\n",
       " {'State': 'Arkansas (AR)',\n",
       "  'City': 'Little Rock',\n",
       "  'ZIP Code(s)': '72201 thru 72217'},\n",
       " {'State': 'California (CA)',\n",
       "  'City': 'Sacramento\\xa0Los Angeles\\xa0Beverly Hills',\n",
       "  'ZIP Code(s)': '94203 thru 94209\\xa090001 thru 90089\\xa090209 thru 90213'},\n",
       " {'State': 'Colorado (CO)',\n",
       "  'City': 'Denver',\n",
       "  'ZIP Code(s)': '80201 thru 80239'},\n",
       " {'State': 'Conneticut (CT)',\n",
       "  'City': 'Hartford',\n",
       "  'ZIP Code(s)': '06101 thru 06112'},\n",
       " {'State': 'Deleware (DE)',\n",
       "  'City': 'Dover',\n",
       "  'ZIP Code(s)': '19901 thru 19905'},\n",
       " {'State': 'District of Columbia (DC)',\n",
       "  'City': 'Washington',\n",
       "  'ZIP Code(s)': '20001 thru 20020'},\n",
       " {'State': 'Florida (FL)',\n",
       "  'City': 'Pensacola\\xa0Miami\\xa0Orlando',\n",
       "  'ZIP Code(s)': '32501 thru 32509\\xa033124 thru 33190\\xa032801 thru 32837'},\n",
       " {'State': 'Georgia (GA)',\n",
       "  'City': 'Atlanta',\n",
       "  'ZIP Code(s)': '30301 thru 30381'},\n",
       " {'State': 'Hawaii (HI)',\n",
       "  'City': 'Honolulu',\n",
       "  'ZIP Code(s)': '96801 thru 96830'},\n",
       " {'State': 'Idaho (ID)', 'City': 'Montpelier', 'ZIP Code(s)': '83254'},\n",
       " {'State': 'Illinois (IL)',\n",
       "  'City': 'Chicago\\xa0Springfield',\n",
       "  'ZIP Code(s)': '60601 thru 60641\\xa062701 thru 62709'},\n",
       " {'State': 'Indiana (IN)',\n",
       "  'City': 'Indianapolis',\n",
       "  'ZIP Code(s)': '46201 thru 46209'},\n",
       " {'State': 'Iowa (IA)',\n",
       "  'City': 'Davenport\\xa0Des Moines',\n",
       "  'ZIP Code(s)': '52801 thru 52809\\xa050301 thru 50323'},\n",
       " {'State': 'Kansas (KS)',\n",
       "  'City': 'Wichita',\n",
       "  'ZIP Code(s)': '67201 thru 67221'},\n",
       " {'State': 'Kentucky (KY)', 'City': 'Hazard', 'ZIP Code(s)': '41701- 41702'},\n",
       " {'State': 'Lousiana (LA)',\n",
       "  'City': 'New Orleans',\n",
       "  'ZIP Code(s)': '70112 thru 70119'},\n",
       " {'State': 'Maine (ME)',\n",
       "  'City': 'Freeport',\n",
       "  'ZIP Code(s)': '04032 thru 04034'},\n",
       " {'State': 'Maryland (MD)',\n",
       "  'City': 'Baltimore',\n",
       "  'ZIP Code(s)': '21201 thru 21237'},\n",
       " {'State': 'Massachusetts (MA)',\n",
       "  'City': 'Boston',\n",
       "  'ZIP Code(s)': '02101 thru 02137'},\n",
       " {'State': 'Michigan (MI)',\n",
       "  'City': 'Coldwater\\xa0Gaylord',\n",
       "  'ZIP Code(s)': '49036\\xa049734 - 49735'},\n",
       " {'State': 'Minnesota (MN)',\n",
       "  'City': 'Duluth',\n",
       "  'ZIP Code(s)': '55801 thru 55808'},\n",
       " {'State': 'Mississippo (MS)',\n",
       "  'City': 'Biloxi',\n",
       "  'ZIP Code(s)': '39530 thru 39535'},\n",
       " {'State': 'Missouri (MO)',\n",
       "  'City': 'St. Louis',\n",
       "  'ZIP Code(s)': '63101 thru 63141'},\n",
       " {'State': 'Montana (MT)', 'City': 'Laurel', 'ZIP Code(s)': '59044'},\n",
       " {'State': 'Nebraska (NE)',\n",
       "  'City': 'Hastings',\n",
       "  'ZIP Code(s)': '68901 - 68902'},\n",
       " {'State': 'Nevada (NV)', 'City': 'Reno', 'ZIP Code(s)': '89501 thru 89513'},\n",
       " {'State': 'New Hampshire (NH)', 'City': 'Ashland', 'ZIP Code(s)': '03217'},\n",
       " {'State': 'New Jersey (NJ)', 'City': 'Livingston', 'ZIP Code(s)': '07039'},\n",
       " {'State': 'New Mexico (NM)',\n",
       "  'City': 'Santa Fe',\n",
       "  'ZIP Code(s)': '87500 thru 87506'},\n",
       " {'State': 'New York (NY)',\n",
       "  'City': 'New York',\n",
       "  'ZIP Code(s)': '10001 thru 10048'},\n",
       " {'State': 'North Carolina (NC)', 'City': 'Oxford', 'ZIP Code(s)': '27565'},\n",
       " {'State': 'North Dakota (ND)', 'City': 'Walhalla', 'ZIP Code(s)': '58282'},\n",
       " {'State': 'Ohio (OH)',\n",
       "  'City': 'Cleveland',\n",
       "  'ZIP Code(s)': '44101 thru 44179'},\n",
       " {'State': 'Oklahoma (OK)',\n",
       "  'City': 'Tulsa',\n",
       "  'ZIP Code(s)': '74101 thru 74110'},\n",
       " {'State': 'Oregon (OR)',\n",
       "  'City': 'Portland',\n",
       "  'ZIP Code(s)': '97201 thru 97225'},\n",
       " {'State': 'Pennsylvania (PA)',\n",
       "  'City': 'Pittsburgh',\n",
       "  'ZIP Code(s)': '15201 thru 15244'},\n",
       " {'State': 'Rhode Island (RI)',\n",
       "  'City': 'Newport',\n",
       "  'ZIP Code(s)': '02840 - 02841'},\n",
       " {'State': 'South Carolina (SC)', 'City': 'Camden', 'ZIP Code(s)': '29020'},\n",
       " {'State': 'South Dakota (SD)',\n",
       "  'City': 'Aberdeen',\n",
       "  'ZIP Code(s)': '57401 - 57402'},\n",
       " {'State': 'Tennessee (TN)',\n",
       "  'City': 'Nashville',\n",
       "  'ZIP Code(s)': '37201 thru 37222'},\n",
       " {'State': 'Texas (TX)', 'City': 'Austin', 'ZIP Code(s)': '78701 thru 78705'},\n",
       " {'State': 'Utah (UT)', 'City': 'Logan', 'ZIP Code(s)': '84321 thru 84323'},\n",
       " {'State': 'Vermont (VT)', 'City': 'Killington', 'ZIP Code(s)': '05751'},\n",
       " {'State': 'Virginia (VA)', 'City': 'Altavista', 'ZIP Code(s)': '24517'},\n",
       " {'State': 'Washington (WA)',\n",
       "  'City': 'Bellevue (home of windoze)',\n",
       "  'ZIP Code(s)': '98004 thru 98009'},\n",
       " {'State': 'West Virginia (WV)', 'City': 'Beaver', 'ZIP Code(s)': '25813'},\n",
       " {'State': 'Wisconsin (WI)',\n",
       "  'City': 'Milwaukee',\n",
       "  'ZIP Code(s)': '53201 thru 53228'},\n",
       " {'State': 'Wyoming (WY)', 'City': 'Pinedale', 'ZIP Code(s)': '82941'}]"
      ]
     },
     "execution_count": 35,
     "metadata": {},
     "output_type": "execute_result"
    }
   ],
   "source": [
    "[{key:value for key, value in zip(columns,row)} for row in values]"
   ]
  },
  {
   "cell_type": "code",
   "execution_count": 36,
   "metadata": {},
   "outputs": [
    {
     "data": {
      "text/plain": [
       "[dict]"
      ]
     },
     "execution_count": 36,
     "metadata": {},
     "output_type": "execute_result"
    }
   ],
   "source": [
    "[dict]"
   ]
  },
  {
   "cell_type": "code",
   "execution_count": null,
   "metadata": {},
   "outputs": [],
   "source": []
  },
  {
   "cell_type": "code",
   "execution_count": null,
   "metadata": {},
   "outputs": [],
   "source": []
  }
 ],
 "metadata": {
  "kernelspec": {
   "display_name": "Python 3",
   "language": "python",
   "name": "python3"
  },
  "language_info": {
   "codemirror_mode": {
    "name": "ipython",
    "version": 3
   },
   "file_extension": ".py",
   "mimetype": "text/x-python",
   "name": "python",
   "nbconvert_exporter": "python",
   "pygments_lexer": "ipython3",
   "version": "3.7.1"
  }
 },
 "nbformat": 4,
 "nbformat_minor": 2
}
